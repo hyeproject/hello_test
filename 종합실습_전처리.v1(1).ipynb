{
 "cells": [
  {
   "cell_type": "code",
   "execution_count": 1,
   "id": "59edd684",
   "metadata": {},
   "outputs": [],
   "source": [
    "import pandas as pd\n",
    "import numpy as np\n",
    "import matplotlib.pyplot as plt\n",
    "import seaborn as sns\n",
    "from datetime import datetime\n",
    "import statsmodels.api as sm\n",
    "from statsmodels.graphics.tsaplots import plot_acf, plot_pacf\n",
    "from statsmodels.tsa.arima.model import ARIMA\n",
    "from pmdarima import auto_arima\n",
    "from sklearn.preprocessing import StandardScaler\n",
    "from sklearn.decomposition import PCA\n",
    "from sklearn.tree import export_graphviz\n",
    "import graphviz\n",
    "from sklearn.model_selection import train_test_split, GridSearchCV\n",
    "from sklearn.tree import DecisionTreeRegressor\n",
    "from sklearn.ensemble import RandomForestRegressor, GradientBoostingRegressor\n",
    "from sklearn.metrics import mean_squared_error, mean_absolute_error, mean_absolute_percentage_error\n",
    "from scipy.stats import ttest_ind, f_oneway, chi2_contingency\n",
    "from sklearn.linear_model import LinearRegression\n",
    "from sklearn.preprocessing import LabelEncoder\n",
    "import matplotlib.font_manager as fm\n",
    "import matplotlib as mpl\n",
    "import statsmodels.formula.api as smf\n",
    "import warnings\n",
    "warnings.filterwarnings('ignore')"
   ]
  },
  {
   "cell_type": "code",
   "execution_count": 2,
   "id": "33340657",
   "metadata": {},
   "outputs": [
    {
     "name": "stdout",
     "output_type": "stream",
     "text": [
      "E: 잠금 파일 /var/lib/apt/lists/lock 파일을 열 수 없습니다 - open (13: 허가 거부)\n",
      "E: /var/lib/apt/lists/ 디렉터리를 잠글 수 없습니다\n",
      "W: /var/cache/apt/pkgcache.bin 파일을 삭제하는데 문제가 있습니다 - RemoveCaches (13: 허가 거부)\n",
      "W: /var/cache/apt/srcpkgcache.bin 파일을 삭제하는데 문제가 있습니다 - RemoveCaches (13: 허가 거부)\n",
      "E: 잠금 파일 /var/lib/dpkg/lock-frontend 파일을 열 수 없습니다 - open (13: 허가 거부)\n",
      "E: Unable to acquire the dpkg frontend lock (/var/lib/dpkg/lock-frontend), are you root?\n"
     ]
    }
   ],
   "source": [
    "# 나눔 폰트 실행 \n",
    "\n",
    "!apt-get update -qq\n",
    "!apt-get install fonts-nanum* -qq\n",
    "!rm ~/.cache/matplotlib -rf\n",
    "\n",
    "path = '/usr/share/fonts/truetype/nanum/NanumGothic.ttf' # 나눔 고딕\n",
    "font_name = fm.FontProperties(fname=path, size=20).get_name() # 기본 폰트 사이즈 : 20\n",
    "plt.rc('font', family=font_name)\n",
    "mpl.rcParams['axes.unicode_minus'] = False\n",
    "%matplotlib inline"
   ]
  },
  {
   "cell_type": "markdown",
   "id": "18cfa406",
   "metadata": {},
   "source": [
    "## 데이터 불러오기"
   ]
  },
  {
   "cell_type": "code",
   "execution_count": 111,
   "id": "e7372cc9",
   "metadata": {},
   "outputs": [
    {
     "data": {
      "text/html": [
       "<div>\n",
       "<style scoped>\n",
       "    .dataframe tbody tr th:only-of-type {\n",
       "        vertical-align: middle;\n",
       "    }\n",
       "\n",
       "    .dataframe tbody tr th {\n",
       "        vertical-align: top;\n",
       "    }\n",
       "\n",
       "    .dataframe thead th {\n",
       "        text-align: right;\n",
       "    }\n",
       "</style>\n",
       "<table border=\"1\" class=\"dataframe\">\n",
       "  <thead>\n",
       "    <tr style=\"text-align: right;\">\n",
       "      <th></th>\n",
       "      <th>Name</th>\n",
       "      <th>Location</th>\n",
       "      <th>Price</th>\n",
       "      <th>Year</th>\n",
       "      <th>Kilometers_Driven</th>\n",
       "      <th>Fuel_Type</th>\n",
       "      <th>Transmission</th>\n",
       "      <th>Owner_Type</th>\n",
       "      <th>Mileage</th>\n",
       "      <th>Engine</th>\n",
       "      <th>Power</th>\n",
       "      <th>Seats</th>\n",
       "      <th>New_Price</th>\n",
       "    </tr>\n",
       "  </thead>\n",
       "  <tbody>\n",
       "    <tr>\n",
       "      <th>0</th>\n",
       "      <td>Maruti Wagon R LXI CNG</td>\n",
       "      <td>Mumbai</td>\n",
       "      <td>2682.68</td>\n",
       "      <td>2010</td>\n",
       "      <td>72000</td>\n",
       "      <td>CNG</td>\n",
       "      <td>Manual</td>\n",
       "      <td>First</td>\n",
       "      <td>26.6 kmpl</td>\n",
       "      <td>998 CC</td>\n",
       "      <td>58.16 bhp</td>\n",
       "      <td>5.0</td>\n",
       "      <td>NaN</td>\n",
       "    </tr>\n",
       "    <tr>\n",
       "      <th>1</th>\n",
       "      <td>Hyundai Creta 1.6 CRDi SX Option</td>\n",
       "      <td>Pune</td>\n",
       "      <td>19162.00</td>\n",
       "      <td>2015</td>\n",
       "      <td>41000</td>\n",
       "      <td>Diesel</td>\n",
       "      <td>Manual</td>\n",
       "      <td>First</td>\n",
       "      <td>19.67 kmpl</td>\n",
       "      <td>1582 CC</td>\n",
       "      <td>126.2 bhp</td>\n",
       "      <td>5.0</td>\n",
       "      <td>NaN</td>\n",
       "    </tr>\n",
       "    <tr>\n",
       "      <th>2</th>\n",
       "      <td>Honda Jazz V</td>\n",
       "      <td>Chennai</td>\n",
       "      <td>6898.32</td>\n",
       "      <td>2011</td>\n",
       "      <td>46000</td>\n",
       "      <td>Petrol</td>\n",
       "      <td>Manual</td>\n",
       "      <td>First</td>\n",
       "      <td>18.2 kmpl</td>\n",
       "      <td>1199 CC</td>\n",
       "      <td>88.7 bhp</td>\n",
       "      <td>5.0</td>\n",
       "      <td>8.61 Lakh</td>\n",
       "    </tr>\n",
       "    <tr>\n",
       "      <th>3</th>\n",
       "      <td>Maruti Ertiga VDI</td>\n",
       "      <td>Chennai</td>\n",
       "      <td>9197.76</td>\n",
       "      <td>2012</td>\n",
       "      <td>87000</td>\n",
       "      <td>Diesel</td>\n",
       "      <td>Manual</td>\n",
       "      <td>First</td>\n",
       "      <td>20.77 kmpl</td>\n",
       "      <td>1248 CC</td>\n",
       "      <td>88.76 bhp</td>\n",
       "      <td>7.0</td>\n",
       "      <td>NaN</td>\n",
       "    </tr>\n",
       "    <tr>\n",
       "      <th>4</th>\n",
       "      <td>Audi A4 New 2.0 TDI Multitronic</td>\n",
       "      <td>Coimbatore</td>\n",
       "      <td>27194.71</td>\n",
       "      <td>2013</td>\n",
       "      <td>40670</td>\n",
       "      <td>Diesel</td>\n",
       "      <td>Automatic</td>\n",
       "      <td>Second</td>\n",
       "      <td>15.2 kmpl</td>\n",
       "      <td>1968 CC</td>\n",
       "      <td>140.8 bhp</td>\n",
       "      <td>5.0</td>\n",
       "      <td>NaN</td>\n",
       "    </tr>\n",
       "  </tbody>\n",
       "</table>\n",
       "</div>"
      ],
      "text/plain": [
       "                               Name    Location     Price  Year  \\\n",
       "0            Maruti Wagon R LXI CNG      Mumbai   2682.68  2010   \n",
       "1  Hyundai Creta 1.6 CRDi SX Option        Pune  19162.00  2015   \n",
       "2                      Honda Jazz V     Chennai   6898.32  2011   \n",
       "3                 Maruti Ertiga VDI     Chennai   9197.76  2012   \n",
       "4   Audi A4 New 2.0 TDI Multitronic  Coimbatore  27194.71  2013   \n",
       "\n",
       "   Kilometers_Driven Fuel_Type Transmission Owner_Type     Mileage   Engine  \\\n",
       "0              72000       CNG       Manual      First   26.6 kmpl   998 CC   \n",
       "1              41000    Diesel       Manual      First  19.67 kmpl  1582 CC   \n",
       "2              46000    Petrol       Manual      First   18.2 kmpl  1199 CC   \n",
       "3              87000    Diesel       Manual      First  20.77 kmpl  1248 CC   \n",
       "4              40670    Diesel    Automatic     Second   15.2 kmpl  1968 CC   \n",
       "\n",
       "       Power  Seats  New_Price  \n",
       "0  58.16 bhp    5.0        NaN  \n",
       "1  126.2 bhp    5.0        NaN  \n",
       "2   88.7 bhp    5.0  8.61 Lakh  \n",
       "3  88.76 bhp    7.0        NaN  \n",
       "4  140.8 bhp    5.0        NaN  "
      ]
     },
     "execution_count": 111,
     "metadata": {},
     "output_type": "execute_result"
    }
   ],
   "source": [
    "df = pd.read_csv(\"/home/piai/train/01 실습파일/2. Big Data 분석/Car.csv\")\n",
    "df.head()"
   ]
  },
  {
   "cell_type": "code",
   "execution_count": 112,
   "id": "cbe59d03",
   "metadata": {},
   "outputs": [
    {
     "name": "stdout",
     "output_type": "stream",
     "text": [
      "<class 'pandas.core.frame.DataFrame'>\n",
      "RangeIndex: 7253 entries, 0 to 7252\n",
      "Data columns (total 13 columns):\n",
      " #   Column             Non-Null Count  Dtype  \n",
      "---  ------             --------------  -----  \n",
      " 0   Name               7253 non-null   object \n",
      " 1   Location           7253 non-null   object \n",
      " 2   Price              6200 non-null   float64\n",
      " 3   Year               7253 non-null   int64  \n",
      " 4   Kilometers_Driven  7253 non-null   int64  \n",
      " 5   Fuel_Type          7253 non-null   object \n",
      " 6   Transmission       7253 non-null   object \n",
      " 7   Owner_Type         7253 non-null   object \n",
      " 8   Mileage            7251 non-null   object \n",
      " 9   Engine             7207 non-null   object \n",
      " 10  Power              7207 non-null   object \n",
      " 11  Seats              7200 non-null   float64\n",
      " 12  New_Price          1006 non-null   object \n",
      "dtypes: float64(2), int64(2), object(9)\n",
      "memory usage: 736.8+ KB\n"
     ]
    }
   ],
   "source": [
    "# 데이터 정보 확인 : info() 함수\n",
    "\n",
    "df.info()"
   ]
  },
  {
   "cell_type": "code",
   "execution_count": 113,
   "id": "80d4d7f9",
   "metadata": {},
   "outputs": [
    {
     "data": {
      "text/plain": [
       "Name                    0\n",
       "Location                0\n",
       "Price                1053\n",
       "Year                    0\n",
       "Kilometers_Driven       0\n",
       "Fuel_Type               0\n",
       "Transmission            0\n",
       "Owner_Type              0\n",
       "Mileage                 2\n",
       "Engine                 46\n",
       "Power                  46\n",
       "Seats                  53\n",
       "New_Price            6247\n",
       "dtype: int64"
      ]
     },
     "execution_count": 113,
     "metadata": {},
     "output_type": "execute_result"
    }
   ],
   "source": [
    "# 결측치(True) 현황 요약 : sum() 함수\n",
    "\n",
    "df.isnull().sum()"
   ]
  },
  {
   "cell_type": "code",
   "execution_count": 114,
   "id": "27dc860b",
   "metadata": {},
   "outputs": [
    {
     "data": {
      "text/plain": [
       "(7253, 11)"
      ]
     },
     "execution_count": 114,
     "metadata": {},
     "output_type": "execute_result"
    }
   ],
   "source": [
    "# Owner_type, New_Price 열 제거\n",
    "\n",
    "df.drop(columns=['Owner_Type','New_Price'], inplace=True)\n",
    "df.shape"
   ]
  },
  {
   "cell_type": "code",
   "execution_count": 115,
   "id": "c64779e3",
   "metadata": {},
   "outputs": [
    {
     "data": {
      "text/html": [
       "<div>\n",
       "<style scoped>\n",
       "    .dataframe tbody tr th:only-of-type {\n",
       "        vertical-align: middle;\n",
       "    }\n",
       "\n",
       "    .dataframe tbody tr th {\n",
       "        vertical-align: top;\n",
       "    }\n",
       "\n",
       "    .dataframe thead th {\n",
       "        text-align: right;\n",
       "    }\n",
       "</style>\n",
       "<table border=\"1\" class=\"dataframe\">\n",
       "  <thead>\n",
       "    <tr style=\"text-align: right;\">\n",
       "      <th></th>\n",
       "      <th>Name</th>\n",
       "      <th>Location</th>\n",
       "      <th>Price</th>\n",
       "      <th>Year</th>\n",
       "      <th>Kilometers_Driven</th>\n",
       "      <th>Fuel_Type</th>\n",
       "      <th>Transmission</th>\n",
       "      <th>Mileage</th>\n",
       "      <th>Engine</th>\n",
       "      <th>Power</th>\n",
       "      <th>Seats</th>\n",
       "    </tr>\n",
       "  </thead>\n",
       "  <tbody>\n",
       "    <tr>\n",
       "      <th>0</th>\n",
       "      <td>Maruti Wagon R LXI CNG</td>\n",
       "      <td>Mumbai</td>\n",
       "      <td>2682.68</td>\n",
       "      <td>2010</td>\n",
       "      <td>72000</td>\n",
       "      <td>CNG</td>\n",
       "      <td>Manual</td>\n",
       "      <td>26.6 kmpl</td>\n",
       "      <td>998 CC</td>\n",
       "      <td>58.16 bhp</td>\n",
       "      <td>5.0</td>\n",
       "    </tr>\n",
       "    <tr>\n",
       "      <th>1</th>\n",
       "      <td>Hyundai Creta 1.6 CRDi SX Option</td>\n",
       "      <td>Pune</td>\n",
       "      <td>19162.00</td>\n",
       "      <td>2015</td>\n",
       "      <td>41000</td>\n",
       "      <td>Diesel</td>\n",
       "      <td>Manual</td>\n",
       "      <td>19.67 kmpl</td>\n",
       "      <td>1582 CC</td>\n",
       "      <td>126.2 bhp</td>\n",
       "      <td>5.0</td>\n",
       "    </tr>\n",
       "    <tr>\n",
       "      <th>2</th>\n",
       "      <td>Honda Jazz V</td>\n",
       "      <td>Chennai</td>\n",
       "      <td>6898.32</td>\n",
       "      <td>2011</td>\n",
       "      <td>46000</td>\n",
       "      <td>Petrol</td>\n",
       "      <td>Manual</td>\n",
       "      <td>18.2 kmpl</td>\n",
       "      <td>1199 CC</td>\n",
       "      <td>88.7 bhp</td>\n",
       "      <td>5.0</td>\n",
       "    </tr>\n",
       "    <tr>\n",
       "      <th>3</th>\n",
       "      <td>Maruti Ertiga VDI</td>\n",
       "      <td>Chennai</td>\n",
       "      <td>9197.76</td>\n",
       "      <td>2012</td>\n",
       "      <td>87000</td>\n",
       "      <td>Diesel</td>\n",
       "      <td>Manual</td>\n",
       "      <td>20.77 kmpl</td>\n",
       "      <td>1248 CC</td>\n",
       "      <td>88.76 bhp</td>\n",
       "      <td>7.0</td>\n",
       "    </tr>\n",
       "    <tr>\n",
       "      <th>4</th>\n",
       "      <td>Audi A4 New 2.0 TDI Multitronic</td>\n",
       "      <td>Coimbatore</td>\n",
       "      <td>27194.71</td>\n",
       "      <td>2013</td>\n",
       "      <td>40670</td>\n",
       "      <td>Diesel</td>\n",
       "      <td>Automatic</td>\n",
       "      <td>15.2 kmpl</td>\n",
       "      <td>1968 CC</td>\n",
       "      <td>140.8 bhp</td>\n",
       "      <td>5.0</td>\n",
       "    </tr>\n",
       "    <tr>\n",
       "      <th>...</th>\n",
       "      <td>...</td>\n",
       "      <td>...</td>\n",
       "      <td>...</td>\n",
       "      <td>...</td>\n",
       "      <td>...</td>\n",
       "      <td>...</td>\n",
       "      <td>...</td>\n",
       "      <td>...</td>\n",
       "      <td>...</td>\n",
       "      <td>...</td>\n",
       "      <td>...</td>\n",
       "    </tr>\n",
       "    <tr>\n",
       "      <th>7246</th>\n",
       "      <td>Volkswagen Vento Diesel Trendline</td>\n",
       "      <td>Hyderabad</td>\n",
       "      <td>NaN</td>\n",
       "      <td>2011</td>\n",
       "      <td>89411</td>\n",
       "      <td>Diesel</td>\n",
       "      <td>Manual</td>\n",
       "      <td>20.54 kmpl</td>\n",
       "      <td>1598 CC</td>\n",
       "      <td>103.6 bhp</td>\n",
       "      <td>5.0</td>\n",
       "    </tr>\n",
       "    <tr>\n",
       "      <th>7247</th>\n",
       "      <td>Volkswagen Polo GT TSI</td>\n",
       "      <td>Mumbai</td>\n",
       "      <td>NaN</td>\n",
       "      <td>2015</td>\n",
       "      <td>59000</td>\n",
       "      <td>Petrol</td>\n",
       "      <td>Automatic</td>\n",
       "      <td>17.21 kmpl</td>\n",
       "      <td>1197 CC</td>\n",
       "      <td>103.6 bhp</td>\n",
       "      <td>5.0</td>\n",
       "    </tr>\n",
       "    <tr>\n",
       "      <th>7248</th>\n",
       "      <td>Nissan Micra Diesel XV</td>\n",
       "      <td>Kolkata</td>\n",
       "      <td>NaN</td>\n",
       "      <td>2012</td>\n",
       "      <td>28000</td>\n",
       "      <td>Diesel</td>\n",
       "      <td>Manual</td>\n",
       "      <td>23.08 kmpl</td>\n",
       "      <td>1461 CC</td>\n",
       "      <td>63.1 bhp</td>\n",
       "      <td>5.0</td>\n",
       "    </tr>\n",
       "    <tr>\n",
       "      <th>7249</th>\n",
       "      <td>Volkswagen Polo GT TSI</td>\n",
       "      <td>Pune</td>\n",
       "      <td>NaN</td>\n",
       "      <td>2013</td>\n",
       "      <td>52262</td>\n",
       "      <td>Petrol</td>\n",
       "      <td>Automatic</td>\n",
       "      <td>17.2 kmpl</td>\n",
       "      <td>1197 CC</td>\n",
       "      <td>103.6 bhp</td>\n",
       "      <td>5.0</td>\n",
       "    </tr>\n",
       "    <tr>\n",
       "      <th>7250</th>\n",
       "      <td>Mercedes-Benz E-Class 2009-2013 E 220 CDI Avan...</td>\n",
       "      <td>Kochi</td>\n",
       "      <td>NaN</td>\n",
       "      <td>2014</td>\n",
       "      <td>72443</td>\n",
       "      <td>Diesel</td>\n",
       "      <td>Automatic</td>\n",
       "      <td>10.0 kmpl</td>\n",
       "      <td>2148 CC</td>\n",
       "      <td>170 bhp</td>\n",
       "      <td>5.0</td>\n",
       "    </tr>\n",
       "  </tbody>\n",
       "</table>\n",
       "<p>7251 rows × 11 columns</p>\n",
       "</div>"
      ],
      "text/plain": [
       "                                                   Name    Location     Price  \\\n",
       "0                                Maruti Wagon R LXI CNG      Mumbai   2682.68   \n",
       "1                      Hyundai Creta 1.6 CRDi SX Option        Pune  19162.00   \n",
       "2                                          Honda Jazz V     Chennai   6898.32   \n",
       "3                                     Maruti Ertiga VDI     Chennai   9197.76   \n",
       "4                       Audi A4 New 2.0 TDI Multitronic  Coimbatore  27194.71   \n",
       "...                                                 ...         ...       ...   \n",
       "7246                  Volkswagen Vento Diesel Trendline   Hyderabad       NaN   \n",
       "7247                             Volkswagen Polo GT TSI      Mumbai       NaN   \n",
       "7248                             Nissan Micra Diesel XV     Kolkata       NaN   \n",
       "7249                             Volkswagen Polo GT TSI        Pune       NaN   \n",
       "7250  Mercedes-Benz E-Class 2009-2013 E 220 CDI Avan...       Kochi       NaN   \n",
       "\n",
       "      Year  Kilometers_Driven Fuel_Type Transmission     Mileage   Engine  \\\n",
       "0     2010              72000       CNG       Manual   26.6 kmpl   998 CC   \n",
       "1     2015              41000    Diesel       Manual  19.67 kmpl  1582 CC   \n",
       "2     2011              46000    Petrol       Manual   18.2 kmpl  1199 CC   \n",
       "3     2012              87000    Diesel       Manual  20.77 kmpl  1248 CC   \n",
       "4     2013              40670    Diesel    Automatic   15.2 kmpl  1968 CC   \n",
       "...    ...                ...       ...          ...         ...      ...   \n",
       "7246  2011              89411    Diesel       Manual  20.54 kmpl  1598 CC   \n",
       "7247  2015              59000    Petrol    Automatic  17.21 kmpl  1197 CC   \n",
       "7248  2012              28000    Diesel       Manual  23.08 kmpl  1461 CC   \n",
       "7249  2013              52262    Petrol    Automatic   17.2 kmpl  1197 CC   \n",
       "7250  2014              72443    Diesel    Automatic   10.0 kmpl  2148 CC   \n",
       "\n",
       "          Power  Seats  \n",
       "0     58.16 bhp    5.0  \n",
       "1     126.2 bhp    5.0  \n",
       "2      88.7 bhp    5.0  \n",
       "3     88.76 bhp    7.0  \n",
       "4     140.8 bhp    5.0  \n",
       "...         ...    ...  \n",
       "7246  103.6 bhp    5.0  \n",
       "7247  103.6 bhp    5.0  \n",
       "7248   63.1 bhp    5.0  \n",
       "7249  103.6 bhp    5.0  \n",
       "7250    170 bhp    5.0  \n",
       "\n",
       "[7251 rows x 11 columns]"
      ]
     },
     "execution_count": 115,
     "metadata": {},
     "output_type": "execute_result"
    }
   ],
   "source": [
    "#중복 데이터 제거\n",
    "\n",
    "df.drop_duplicates(ignore_index=True)"
   ]
  },
  {
   "cell_type": "code",
   "execution_count": 116,
   "id": "e67e742b",
   "metadata": {},
   "outputs": [],
   "source": [
    "df['Price'] = df.groupby('Name')['Price'].transform(lambda x: x.fillna(x.mean()))"
   ]
  },
  {
   "cell_type": "code",
   "execution_count": 117,
   "id": "60b6c182",
   "metadata": {},
   "outputs": [
    {
     "data": {
      "text/plain": [
       "Name                   0\n",
       "Location               0\n",
       "Price                126\n",
       "Year                   0\n",
       "Kilometers_Driven      0\n",
       "Fuel_Type              0\n",
       "Transmission           0\n",
       "Mileage                2\n",
       "Engine                46\n",
       "Power                 46\n",
       "Seats                 53\n",
       "dtype: int64"
      ]
     },
     "execution_count": 117,
     "metadata": {},
     "output_type": "execute_result"
    }
   ],
   "source": [
    "df.isnull().sum()"
   ]
  },
  {
   "cell_type": "markdown",
   "id": "4434a707",
   "metadata": {},
   "source": [
    "-> 나머지 126개는 mean값으로 채워지지 못했으므로 삭제함"
   ]
  },
  {
   "cell_type": "code",
   "execution_count": 118,
   "id": "a25dcf8b",
   "metadata": {},
   "outputs": [
    {
     "data": {
      "text/html": [
       "<div>\n",
       "<style scoped>\n",
       "    .dataframe tbody tr th:only-of-type {\n",
       "        vertical-align: middle;\n",
       "    }\n",
       "\n",
       "    .dataframe tbody tr th {\n",
       "        vertical-align: top;\n",
       "    }\n",
       "\n",
       "    .dataframe thead th {\n",
       "        text-align: right;\n",
       "    }\n",
       "</style>\n",
       "<table border=\"1\" class=\"dataframe\">\n",
       "  <thead>\n",
       "    <tr style=\"text-align: right;\">\n",
       "      <th></th>\n",
       "      <th>Name</th>\n",
       "      <th>Location</th>\n",
       "      <th>Price</th>\n",
       "      <th>Year</th>\n",
       "      <th>Kilometers_Driven</th>\n",
       "      <th>Fuel_Type</th>\n",
       "      <th>Transmission</th>\n",
       "      <th>Mileage</th>\n",
       "      <th>Engine</th>\n",
       "      <th>Power</th>\n",
       "      <th>Seats</th>\n",
       "    </tr>\n",
       "  </thead>\n",
       "  <tbody>\n",
       "    <tr>\n",
       "      <th>0</th>\n",
       "      <td>Maruti Wagon R LXI CNG</td>\n",
       "      <td>Mumbai</td>\n",
       "      <td>2682.68</td>\n",
       "      <td>2010</td>\n",
       "      <td>72000</td>\n",
       "      <td>CNG</td>\n",
       "      <td>Manual</td>\n",
       "      <td>26.6 kmpl</td>\n",
       "      <td>998 CC</td>\n",
       "      <td>58.16 bhp</td>\n",
       "      <td>5.0</td>\n",
       "    </tr>\n",
       "    <tr>\n",
       "      <th>1</th>\n",
       "      <td>Hyundai Creta 1.6 CRDi SX Option</td>\n",
       "      <td>Pune</td>\n",
       "      <td>19162.00</td>\n",
       "      <td>2015</td>\n",
       "      <td>41000</td>\n",
       "      <td>Diesel</td>\n",
       "      <td>Manual</td>\n",
       "      <td>19.67 kmpl</td>\n",
       "      <td>1582 CC</td>\n",
       "      <td>126.2 bhp</td>\n",
       "      <td>5.0</td>\n",
       "    </tr>\n",
       "    <tr>\n",
       "      <th>2</th>\n",
       "      <td>Honda Jazz V</td>\n",
       "      <td>Chennai</td>\n",
       "      <td>6898.32</td>\n",
       "      <td>2011</td>\n",
       "      <td>46000</td>\n",
       "      <td>Petrol</td>\n",
       "      <td>Manual</td>\n",
       "      <td>18.2 kmpl</td>\n",
       "      <td>1199 CC</td>\n",
       "      <td>88.7 bhp</td>\n",
       "      <td>5.0</td>\n",
       "    </tr>\n",
       "    <tr>\n",
       "      <th>3</th>\n",
       "      <td>Maruti Ertiga VDI</td>\n",
       "      <td>Chennai</td>\n",
       "      <td>9197.76</td>\n",
       "      <td>2012</td>\n",
       "      <td>87000</td>\n",
       "      <td>Diesel</td>\n",
       "      <td>Manual</td>\n",
       "      <td>20.77 kmpl</td>\n",
       "      <td>1248 CC</td>\n",
       "      <td>88.76 bhp</td>\n",
       "      <td>7.0</td>\n",
       "    </tr>\n",
       "    <tr>\n",
       "      <th>4</th>\n",
       "      <td>Audi A4 New 2.0 TDI Multitronic</td>\n",
       "      <td>Coimbatore</td>\n",
       "      <td>27194.71</td>\n",
       "      <td>2013</td>\n",
       "      <td>40670</td>\n",
       "      <td>Diesel</td>\n",
       "      <td>Automatic</td>\n",
       "      <td>15.2 kmpl</td>\n",
       "      <td>1968 CC</td>\n",
       "      <td>140.8 bhp</td>\n",
       "      <td>5.0</td>\n",
       "    </tr>\n",
       "  </tbody>\n",
       "</table>\n",
       "</div>"
      ],
      "text/plain": [
       "                               Name    Location     Price  Year  \\\n",
       "0            Maruti Wagon R LXI CNG      Mumbai   2682.68  2010   \n",
       "1  Hyundai Creta 1.6 CRDi SX Option        Pune  19162.00  2015   \n",
       "2                      Honda Jazz V     Chennai   6898.32  2011   \n",
       "3                 Maruti Ertiga VDI     Chennai   9197.76  2012   \n",
       "4   Audi A4 New 2.0 TDI Multitronic  Coimbatore  27194.71  2013   \n",
       "\n",
       "   Kilometers_Driven Fuel_Type Transmission     Mileage   Engine      Power  \\\n",
       "0              72000       CNG       Manual   26.6 kmpl   998 CC  58.16 bhp   \n",
       "1              41000    Diesel       Manual  19.67 kmpl  1582 CC  126.2 bhp   \n",
       "2              46000    Petrol       Manual   18.2 kmpl  1199 CC   88.7 bhp   \n",
       "3              87000    Diesel       Manual  20.77 kmpl  1248 CC  88.76 bhp   \n",
       "4              40670    Diesel    Automatic   15.2 kmpl  1968 CC  140.8 bhp   \n",
       "\n",
       "   Seats  \n",
       "0    5.0  \n",
       "1    5.0  \n",
       "2    5.0  \n",
       "3    7.0  \n",
       "4    5.0  "
      ]
     },
     "execution_count": 118,
     "metadata": {},
     "output_type": "execute_result"
    }
   ],
   "source": [
    "# Price에서 남은 결측치 행 삭제\n",
    "\n",
    "df.dropna(subset=['Price'], inplace=True)\n",
    "df.head()"
   ]
  },
  {
   "cell_type": "code",
   "execution_count": 119,
   "id": "5a6a8f3b",
   "metadata": {},
   "outputs": [
    {
     "data": {
      "text/plain": [
       "Name                  0\n",
       "Location              0\n",
       "Price                 0\n",
       "Year                  0\n",
       "Kilometers_Driven     0\n",
       "Fuel_Type             0\n",
       "Transmission          0\n",
       "Mileage               2\n",
       "Engine               42\n",
       "Power                42\n",
       "Seats                48\n",
       "dtype: int64"
      ]
     },
     "execution_count": 119,
     "metadata": {},
     "output_type": "execute_result"
    }
   ],
   "source": [
    "df.isnull().sum()"
   ]
  },
  {
   "cell_type": "code",
   "execution_count": 120,
   "id": "c647174c",
   "metadata": {},
   "outputs": [],
   "source": [
    "df = df.dropna(subset = ['Mileage','Engine', 'Power'], inplace=False)"
   ]
  },
  {
   "cell_type": "code",
   "execution_count": 121,
   "id": "0c861e28",
   "metadata": {},
   "outputs": [
    {
     "data": {
      "text/plain": [
       "Name                 0\n",
       "Location             0\n",
       "Price                0\n",
       "Year                 0\n",
       "Kilometers_Driven    0\n",
       "Fuel_Type            0\n",
       "Transmission         0\n",
       "Mileage              0\n",
       "Engine               0\n",
       "Power                0\n",
       "Seats                6\n",
       "dtype: int64"
      ]
     },
     "execution_count": 121,
     "metadata": {},
     "output_type": "execute_result"
    }
   ],
   "source": [
    "df.isnull().sum()"
   ]
  },
  {
   "cell_type": "code",
   "execution_count": 122,
   "id": "74563534",
   "metadata": {},
   "outputs": [
    {
     "data": {
      "text/html": [
       "<div>\n",
       "<style scoped>\n",
       "    .dataframe tbody tr th:only-of-type {\n",
       "        vertical-align: middle;\n",
       "    }\n",
       "\n",
       "    .dataframe tbody tr th {\n",
       "        vertical-align: top;\n",
       "    }\n",
       "\n",
       "    .dataframe thead th {\n",
       "        text-align: right;\n",
       "    }\n",
       "</style>\n",
       "<table border=\"1\" class=\"dataframe\">\n",
       "  <thead>\n",
       "    <tr style=\"text-align: right;\">\n",
       "      <th></th>\n",
       "      <th>Name</th>\n",
       "      <th>Location</th>\n",
       "      <th>Price</th>\n",
       "      <th>Year</th>\n",
       "      <th>Kilometers_Driven</th>\n",
       "      <th>Fuel_Type</th>\n",
       "      <th>Transmission</th>\n",
       "      <th>Mileage</th>\n",
       "      <th>Engine</th>\n",
       "      <th>Power</th>\n",
       "      <th>Seats</th>\n",
       "    </tr>\n",
       "  </thead>\n",
       "  <tbody>\n",
       "    <tr>\n",
       "      <th>2369</th>\n",
       "      <td>Maruti Estilo LXI</td>\n",
       "      <td>Chennai</td>\n",
       "      <td>2299.44</td>\n",
       "      <td>2008</td>\n",
       "      <td>56000</td>\n",
       "      <td>Petrol</td>\n",
       "      <td>Manual</td>\n",
       "      <td>19.5 kmpl</td>\n",
       "      <td>1061 CC</td>\n",
       "      <td>null bhp</td>\n",
       "      <td>NaN</td>\n",
       "    </tr>\n",
       "    <tr>\n",
       "      <th>3882</th>\n",
       "      <td>Maruti Estilo LXI</td>\n",
       "      <td>Kolkata</td>\n",
       "      <td>3832.40</td>\n",
       "      <td>2010</td>\n",
       "      <td>40000</td>\n",
       "      <td>Petrol</td>\n",
       "      <td>Manual</td>\n",
       "      <td>19.5 kmpl</td>\n",
       "      <td>1061 CC</td>\n",
       "      <td>null bhp</td>\n",
       "      <td>NaN</td>\n",
       "    </tr>\n",
       "    <tr>\n",
       "      <th>5893</th>\n",
       "      <td>Maruti Estilo LXI</td>\n",
       "      <td>Chennai</td>\n",
       "      <td>2682.68</td>\n",
       "      <td>2008</td>\n",
       "      <td>51000</td>\n",
       "      <td>Petrol</td>\n",
       "      <td>Manual</td>\n",
       "      <td>19.5 kmpl</td>\n",
       "      <td>1061 CC</td>\n",
       "      <td>null bhp</td>\n",
       "      <td>NaN</td>\n",
       "    </tr>\n",
       "  </tbody>\n",
       "</table>\n",
       "</div>"
      ],
      "text/plain": [
       "                   Name Location    Price  Year  Kilometers_Driven Fuel_Type  \\\n",
       "2369  Maruti Estilo LXI  Chennai  2299.44  2008              56000    Petrol   \n",
       "3882  Maruti Estilo LXI  Kolkata  3832.40  2010              40000    Petrol   \n",
       "5893  Maruti Estilo LXI  Chennai  2682.68  2008              51000    Petrol   \n",
       "\n",
       "     Transmission    Mileage   Engine     Power  Seats  \n",
       "2369       Manual  19.5 kmpl  1061 CC  null bhp    NaN  \n",
       "3882       Manual  19.5 kmpl  1061 CC  null bhp    NaN  \n",
       "5893       Manual  19.5 kmpl  1061 CC  null bhp    NaN  "
      ]
     },
     "execution_count": 122,
     "metadata": {},
     "output_type": "execute_result"
    }
   ],
   "source": [
    "# 'Name' 열에서 'Maruti Estilo LXI'만 필터링하여 출력합니다.\n",
    "maruti_estilo_lxi = df.loc[df['Name'] == 'Maruti Estilo LXI']\n",
    "\n",
    "# 결과 출력\n",
    "maruti_estilo_lxi\n",
    "\n",
    "#5인승"
   ]
  },
  {
   "cell_type": "code",
   "execution_count": 123,
   "id": "281de3f0",
   "metadata": {},
   "outputs": [
    {
     "data": {
      "text/html": [
       "<div>\n",
       "<style scoped>\n",
       "    .dataframe tbody tr th:only-of-type {\n",
       "        vertical-align: middle;\n",
       "    }\n",
       "\n",
       "    .dataframe tbody tr th {\n",
       "        vertical-align: top;\n",
       "    }\n",
       "\n",
       "    .dataframe thead th {\n",
       "        text-align: right;\n",
       "    }\n",
       "</style>\n",
       "<table border=\"1\" class=\"dataframe\">\n",
       "  <thead>\n",
       "    <tr style=\"text-align: right;\">\n",
       "      <th></th>\n",
       "      <th>Name</th>\n",
       "      <th>Location</th>\n",
       "      <th>Price</th>\n",
       "      <th>Year</th>\n",
       "      <th>Kilometers_Driven</th>\n",
       "      <th>Fuel_Type</th>\n",
       "      <th>Transmission</th>\n",
       "      <th>Mileage</th>\n",
       "      <th>Engine</th>\n",
       "      <th>Power</th>\n",
       "      <th>Seats</th>\n",
       "    </tr>\n",
       "  </thead>\n",
       "  <tbody>\n",
       "    <tr>\n",
       "      <th>3800</th>\n",
       "      <td>Ford Endeavour Hurricane LE</td>\n",
       "      <td>Mumbai</td>\n",
       "      <td>10730.72</td>\n",
       "      <td>2012</td>\n",
       "      <td>129000</td>\n",
       "      <td>Diesel</td>\n",
       "      <td>Automatic</td>\n",
       "      <td>12.8 kmpl</td>\n",
       "      <td>2953 CC</td>\n",
       "      <td>null bhp</td>\n",
       "      <td>NaN</td>\n",
       "    </tr>\n",
       "  </tbody>\n",
       "</table>\n",
       "</div>"
      ],
      "text/plain": [
       "                             Name Location     Price  Year  Kilometers_Driven  \\\n",
       "3800  Ford Endeavour Hurricane LE   Mumbai  10730.72  2012             129000   \n",
       "\n",
       "     Fuel_Type Transmission    Mileage   Engine     Power  Seats  \n",
       "3800    Diesel    Automatic  12.8 kmpl  2953 CC  null bhp    NaN  "
      ]
     },
     "execution_count": 123,
     "metadata": {},
     "output_type": "execute_result"
    }
   ],
   "source": [
    "# 'Name' 열에서 'Ford Endeavour Hurricane LE'만 필터링하여 출력합니다.\n",
    "ford_endeavour_hurricane = df.loc[df['Name'] == 'Ford Endeavour Hurricane LE']\n",
    "\n",
    "# 결과 출력\n",
    "ford_endeavour_hurricane\n",
    "\n",
    "#7인승"
   ]
  },
  {
   "cell_type": "code",
   "execution_count": 124,
   "id": "8f5d04e3",
   "metadata": {},
   "outputs": [
    {
     "data": {
      "text/html": [
       "<div>\n",
       "<style scoped>\n",
       "    .dataframe tbody tr th:only-of-type {\n",
       "        vertical-align: middle;\n",
       "    }\n",
       "\n",
       "    .dataframe tbody tr th {\n",
       "        vertical-align: top;\n",
       "    }\n",
       "\n",
       "    .dataframe thead th {\n",
       "        text-align: right;\n",
       "    }\n",
       "</style>\n",
       "<table border=\"1\" class=\"dataframe\">\n",
       "  <thead>\n",
       "    <tr style=\"text-align: right;\">\n",
       "      <th></th>\n",
       "      <th>Name</th>\n",
       "      <th>Location</th>\n",
       "      <th>Price</th>\n",
       "      <th>Year</th>\n",
       "      <th>Kilometers_Driven</th>\n",
       "      <th>Fuel_Type</th>\n",
       "      <th>Transmission</th>\n",
       "      <th>Mileage</th>\n",
       "      <th>Engine</th>\n",
       "      <th>Power</th>\n",
       "      <th>Seats</th>\n",
       "    </tr>\n",
       "  </thead>\n",
       "  <tbody>\n",
       "    <tr>\n",
       "      <th>229</th>\n",
       "      <td>Ford Figo Diesel</td>\n",
       "      <td>Bangalore</td>\n",
       "      <td>5518.66</td>\n",
       "      <td>2015</td>\n",
       "      <td>70436</td>\n",
       "      <td>Diesel</td>\n",
       "      <td>Manual</td>\n",
       "      <td>0.0 kmpl</td>\n",
       "      <td>1498 CC</td>\n",
       "      <td>99 bhp</td>\n",
       "      <td>NaN</td>\n",
       "    </tr>\n",
       "  </tbody>\n",
       "</table>\n",
       "</div>"
      ],
      "text/plain": [
       "                 Name   Location    Price  Year  Kilometers_Driven Fuel_Type  \\\n",
       "229  Ford Figo Diesel  Bangalore  5518.66  2015              70436    Diesel   \n",
       "\n",
       "    Transmission   Mileage   Engine   Power  Seats  \n",
       "229       Manual  0.0 kmpl  1498 CC  99 bhp    NaN  "
      ]
     },
     "execution_count": 124,
     "metadata": {},
     "output_type": "execute_result"
    }
   ],
   "source": [
    "# 'Name' 열에서 'Ford Figo Diesel'만 필터링하여 출력합니다.\n",
    "ford_figo_diesel = df.loc[df['Name'] == 'Ford Figo Diesel']\n",
    "\n",
    "# 결과 출력\n",
    "ford_figo_diesel\n",
    "\n",
    "#5인승"
   ]
  },
  {
   "cell_type": "code",
   "execution_count": 125,
   "id": "a6c044d9",
   "metadata": {},
   "outputs": [
    {
     "data": {
      "text/html": [
       "<div>\n",
       "<style scoped>\n",
       "    .dataframe tbody tr th:only-of-type {\n",
       "        vertical-align: middle;\n",
       "    }\n",
       "\n",
       "    .dataframe tbody tr th {\n",
       "        vertical-align: top;\n",
       "    }\n",
       "\n",
       "    .dataframe thead th {\n",
       "        text-align: right;\n",
       "    }\n",
       "</style>\n",
       "<table border=\"1\" class=\"dataframe\">\n",
       "  <thead>\n",
       "    <tr style=\"text-align: right;\">\n",
       "      <th></th>\n",
       "      <th>Name</th>\n",
       "      <th>Location</th>\n",
       "      <th>Price</th>\n",
       "      <th>Year</th>\n",
       "      <th>Kilometers_Driven</th>\n",
       "      <th>Fuel_Type</th>\n",
       "      <th>Transmission</th>\n",
       "      <th>Mileage</th>\n",
       "      <th>Engine</th>\n",
       "      <th>Power</th>\n",
       "      <th>Seats</th>\n",
       "    </tr>\n",
       "  </thead>\n",
       "  <tbody>\n",
       "    <tr>\n",
       "      <th>1279</th>\n",
       "      <td>Honda City 1.5 EXI</td>\n",
       "      <td>Pune</td>\n",
       "      <td>1762.90</td>\n",
       "      <td>2005</td>\n",
       "      <td>98437</td>\n",
       "      <td>Petrol</td>\n",
       "      <td>Manual</td>\n",
       "      <td>13.0 kmpl</td>\n",
       "      <td>1493 CC</td>\n",
       "      <td>100 bhp</td>\n",
       "      <td>5.0</td>\n",
       "    </tr>\n",
       "    <tr>\n",
       "      <th>1917</th>\n",
       "      <td>Honda City 1.5 EXI</td>\n",
       "      <td>Jaipur</td>\n",
       "      <td>2606.03</td>\n",
       "      <td>2005</td>\n",
       "      <td>88000</td>\n",
       "      <td>Petrol</td>\n",
       "      <td>Manual</td>\n",
       "      <td>13.0 kmpl</td>\n",
       "      <td>1493 CC</td>\n",
       "      <td>100 bhp</td>\n",
       "      <td>NaN</td>\n",
       "    </tr>\n",
       "    <tr>\n",
       "      <th>3721</th>\n",
       "      <td>Honda City 1.5 EXI</td>\n",
       "      <td>Jaipur</td>\n",
       "      <td>1686.26</td>\n",
       "      <td>2005</td>\n",
       "      <td>123000</td>\n",
       "      <td>Petrol</td>\n",
       "      <td>Manual</td>\n",
       "      <td>13.0 kmpl</td>\n",
       "      <td>1493 CC</td>\n",
       "      <td>100 bhp</td>\n",
       "      <td>5.0</td>\n",
       "    </tr>\n",
       "    <tr>\n",
       "      <th>3806</th>\n",
       "      <td>Honda City 1.5 EXI</td>\n",
       "      <td>Pune</td>\n",
       "      <td>2222.79</td>\n",
       "      <td>2001</td>\n",
       "      <td>125943</td>\n",
       "      <td>Petrol</td>\n",
       "      <td>Manual</td>\n",
       "      <td>13.0 kmpl</td>\n",
       "      <td>1493 CC</td>\n",
       "      <td>100 bhp</td>\n",
       "      <td>5.0</td>\n",
       "    </tr>\n",
       "    <tr>\n",
       "      <th>5957</th>\n",
       "      <td>Honda City 1.5 EXI</td>\n",
       "      <td>Coimbatore</td>\n",
       "      <td>2698.01</td>\n",
       "      <td>2004</td>\n",
       "      <td>186679</td>\n",
       "      <td>Petrol</td>\n",
       "      <td>Manual</td>\n",
       "      <td>13.0 kmpl</td>\n",
       "      <td>1493 CC</td>\n",
       "      <td>100 bhp</td>\n",
       "      <td>5.0</td>\n",
       "    </tr>\n",
       "  </tbody>\n",
       "</table>\n",
       "</div>"
      ],
      "text/plain": [
       "                    Name    Location    Price  Year  Kilometers_Driven  \\\n",
       "1279  Honda City 1.5 EXI        Pune  1762.90  2005              98437   \n",
       "1917  Honda City 1.5 EXI      Jaipur  2606.03  2005              88000   \n",
       "3721  Honda City 1.5 EXI      Jaipur  1686.26  2005             123000   \n",
       "3806  Honda City 1.5 EXI        Pune  2222.79  2001             125943   \n",
       "5957  Honda City 1.5 EXI  Coimbatore  2698.01  2004             186679   \n",
       "\n",
       "     Fuel_Type Transmission    Mileage   Engine    Power  Seats  \n",
       "1279    Petrol       Manual  13.0 kmpl  1493 CC  100 bhp    5.0  \n",
       "1917    Petrol       Manual  13.0 kmpl  1493 CC  100 bhp    NaN  \n",
       "3721    Petrol       Manual  13.0 kmpl  1493 CC  100 bhp    5.0  \n",
       "3806    Petrol       Manual  13.0 kmpl  1493 CC  100 bhp    5.0  \n",
       "5957    Petrol       Manual  13.0 kmpl  1493 CC  100 bhp    5.0  "
      ]
     },
     "execution_count": 125,
     "metadata": {},
     "output_type": "execute_result"
    }
   ],
   "source": [
    "# 'Name' 열에서 'Honda City 1.5 EXI'만 필터링하여 출력합니다.\n",
    "honda_city_exi = df.loc[df['Name'] == 'Honda City 1.5 EXI']\n",
    "\n",
    "# 결과 출력\n",
    "honda_city_exi\n",
    "\n",
    "#5인승"
   ]
  },
  {
   "cell_type": "code",
   "execution_count": 128,
   "id": "9bbf2b7f",
   "metadata": {},
   "outputs": [
    {
     "data": {
      "text/html": [
       "<div>\n",
       "<style scoped>\n",
       "    .dataframe tbody tr th:only-of-type {\n",
       "        vertical-align: middle;\n",
       "    }\n",
       "\n",
       "    .dataframe tbody tr th {\n",
       "        vertical-align: top;\n",
       "    }\n",
       "\n",
       "    .dataframe thead th {\n",
       "        text-align: right;\n",
       "    }\n",
       "</style>\n",
       "<table border=\"1\" class=\"dataframe\">\n",
       "  <thead>\n",
       "    <tr style=\"text-align: right;\">\n",
       "      <th></th>\n",
       "      <th>Name</th>\n",
       "      <th>Location</th>\n",
       "      <th>Price</th>\n",
       "      <th>Year</th>\n",
       "      <th>Kilometers_Driven</th>\n",
       "      <th>Fuel_Type</th>\n",
       "      <th>Transmission</th>\n",
       "      <th>Mileage</th>\n",
       "      <th>Engine</th>\n",
       "      <th>Power</th>\n",
       "      <th>Seats</th>\n",
       "    </tr>\n",
       "  </thead>\n",
       "  <tbody>\n",
       "  </tbody>\n",
       "</table>\n",
       "</div>"
      ],
      "text/plain": [
       "Empty DataFrame\n",
       "Columns: [Name, Location, Price, Year, Kilometers_Driven, Fuel_Type, Transmission, Mileage, Engine, Power, Seats]\n",
       "Index: []"
      ]
     },
     "execution_count": 128,
     "metadata": {},
     "output_type": "execute_result"
    }
   ],
   "source": [
    "# 'Name' 열에서 'Honda Jazz 2020 Petrol'만 필터링하여 출력합니다.\n",
    "honda_jazz_2020 = df.loc[df['Name'] == 'Honda Jazz 2020 Petrol']\n",
    "\n",
    "# 결과 출력\n",
    "honda_jazz_2020\n",
    "\n",
    "#5인승"
   ]
  },
  {
   "cell_type": "code",
   "execution_count": 129,
   "id": "6fef86c0",
   "metadata": {},
   "outputs": [],
   "source": [
    "df[\"Seats\"].fillna(5, inplace=True)"
   ]
  },
  {
   "cell_type": "code",
   "execution_count": 130,
   "id": "01c8a7ac",
   "metadata": {},
   "outputs": [
    {
     "data": {
      "text/plain": [
       "Name                 0\n",
       "Location             0\n",
       "Price                0\n",
       "Year                 0\n",
       "Kilometers_Driven    0\n",
       "Fuel_Type            0\n",
       "Transmission         0\n",
       "Mileage              0\n",
       "Engine               0\n",
       "Power                0\n",
       "Seats                0\n",
       "dtype: int64"
      ]
     },
     "execution_count": 130,
     "metadata": {},
     "output_type": "execute_result"
    }
   ],
   "source": [
    "# 결측치(True) 현황 요약 :sum 함수\n",
    "df.isnull().sum()"
   ]
  },
  {
   "cell_type": "code",
   "execution_count": 131,
   "id": "c79d58aa",
   "metadata": {},
   "outputs": [
    {
     "data": {
      "text/plain": [
       "Name                 Ford Endeavour Hurricane LE\n",
       "Location                                  Mumbai\n",
       "Price                                   10730.72\n",
       "Year                                        2012\n",
       "Kilometers_Driven                         129000\n",
       "Fuel_Type                                 Diesel\n",
       "Transmission                           Automatic\n",
       "Mileage                                12.8 kmpl\n",
       "Engine                                   2953 CC\n",
       "Power                                   null bhp\n",
       "Seats                                        7.0\n",
       "Name: 3800, dtype: object"
      ]
     },
     "execution_count": 131,
     "metadata": {},
     "output_type": "execute_result"
    }
   ],
   "source": [
    "# 하나만 7이라서, 5로 다 채운 후 7로 하나만 채움\n",
    "#3800번 행의 'Seats' 열을 7로 업데이트합니다.\n",
    "df.at[3800, 'Seats'] = 7\n",
    "\n",
    "# 업데이트된 결과 확인\n",
    "updated_row_3900 = df.loc[3800]\n",
    "updated_row_3900"
   ]
  },
  {
   "cell_type": "code",
   "execution_count": 132,
   "id": "9cba872b",
   "metadata": {},
   "outputs": [
    {
     "data": {
      "text/html": [
       "<div>\n",
       "<style scoped>\n",
       "    .dataframe tbody tr th:only-of-type {\n",
       "        vertical-align: middle;\n",
       "    }\n",
       "\n",
       "    .dataframe tbody tr th {\n",
       "        vertical-align: top;\n",
       "    }\n",
       "\n",
       "    .dataframe thead th {\n",
       "        text-align: right;\n",
       "    }\n",
       "</style>\n",
       "<table border=\"1\" class=\"dataframe\">\n",
       "  <thead>\n",
       "    <tr style=\"text-align: right;\">\n",
       "      <th></th>\n",
       "      <th>Name</th>\n",
       "      <th>Location</th>\n",
       "      <th>Price</th>\n",
       "      <th>Year</th>\n",
       "      <th>Kilometers_Driven</th>\n",
       "      <th>Fuel_Type</th>\n",
       "      <th>Transmission</th>\n",
       "      <th>Mileage</th>\n",
       "      <th>Engine</th>\n",
       "      <th>Power</th>\n",
       "      <th>Seats</th>\n",
       "      <th>Mileage_UNIT</th>\n",
       "      <th>Power_UNIT</th>\n",
       "      <th>Engine_UNIT</th>\n",
       "    </tr>\n",
       "  </thead>\n",
       "  <tbody>\n",
       "    <tr>\n",
       "      <th>0</th>\n",
       "      <td>Maruti Wagon R LXI CNG</td>\n",
       "      <td>Mumbai</td>\n",
       "      <td>2682.68</td>\n",
       "      <td>2010</td>\n",
       "      <td>72000</td>\n",
       "      <td>CNG</td>\n",
       "      <td>Manual</td>\n",
       "      <td>26.6</td>\n",
       "      <td>998</td>\n",
       "      <td>58.16</td>\n",
       "      <td>5.0</td>\n",
       "      <td>kmpl</td>\n",
       "      <td>bhp</td>\n",
       "      <td>CC</td>\n",
       "    </tr>\n",
       "    <tr>\n",
       "      <th>1</th>\n",
       "      <td>Hyundai Creta 1.6 CRDi SX Option</td>\n",
       "      <td>Pune</td>\n",
       "      <td>19162.00</td>\n",
       "      <td>2015</td>\n",
       "      <td>41000</td>\n",
       "      <td>Diesel</td>\n",
       "      <td>Manual</td>\n",
       "      <td>19.67</td>\n",
       "      <td>1582</td>\n",
       "      <td>126.2</td>\n",
       "      <td>5.0</td>\n",
       "      <td>kmpl</td>\n",
       "      <td>bhp</td>\n",
       "      <td>CC</td>\n",
       "    </tr>\n",
       "    <tr>\n",
       "      <th>2</th>\n",
       "      <td>Honda Jazz V</td>\n",
       "      <td>Chennai</td>\n",
       "      <td>6898.32</td>\n",
       "      <td>2011</td>\n",
       "      <td>46000</td>\n",
       "      <td>Petrol</td>\n",
       "      <td>Manual</td>\n",
       "      <td>18.2</td>\n",
       "      <td>1199</td>\n",
       "      <td>88.7</td>\n",
       "      <td>5.0</td>\n",
       "      <td>kmpl</td>\n",
       "      <td>bhp</td>\n",
       "      <td>CC</td>\n",
       "    </tr>\n",
       "    <tr>\n",
       "      <th>3</th>\n",
       "      <td>Maruti Ertiga VDI</td>\n",
       "      <td>Chennai</td>\n",
       "      <td>9197.76</td>\n",
       "      <td>2012</td>\n",
       "      <td>87000</td>\n",
       "      <td>Diesel</td>\n",
       "      <td>Manual</td>\n",
       "      <td>20.77</td>\n",
       "      <td>1248</td>\n",
       "      <td>88.76</td>\n",
       "      <td>7.0</td>\n",
       "      <td>kmpl</td>\n",
       "      <td>bhp</td>\n",
       "      <td>CC</td>\n",
       "    </tr>\n",
       "    <tr>\n",
       "      <th>4</th>\n",
       "      <td>Audi A4 New 2.0 TDI Multitronic</td>\n",
       "      <td>Coimbatore</td>\n",
       "      <td>27194.71</td>\n",
       "      <td>2013</td>\n",
       "      <td>40670</td>\n",
       "      <td>Diesel</td>\n",
       "      <td>Automatic</td>\n",
       "      <td>15.2</td>\n",
       "      <td>1968</td>\n",
       "      <td>140.8</td>\n",
       "      <td>5.0</td>\n",
       "      <td>kmpl</td>\n",
       "      <td>bhp</td>\n",
       "      <td>CC</td>\n",
       "    </tr>\n",
       "  </tbody>\n",
       "</table>\n",
       "</div>"
      ],
      "text/plain": [
       "                               Name    Location     Price  Year  \\\n",
       "0            Maruti Wagon R LXI CNG      Mumbai   2682.68  2010   \n",
       "1  Hyundai Creta 1.6 CRDi SX Option        Pune  19162.00  2015   \n",
       "2                      Honda Jazz V     Chennai   6898.32  2011   \n",
       "3                 Maruti Ertiga VDI     Chennai   9197.76  2012   \n",
       "4   Audi A4 New 2.0 TDI Multitronic  Coimbatore  27194.71  2013   \n",
       "\n",
       "   Kilometers_Driven Fuel_Type Transmission Mileage Engine  Power  Seats  \\\n",
       "0              72000       CNG       Manual    26.6    998  58.16    5.0   \n",
       "1              41000    Diesel       Manual   19.67   1582  126.2    5.0   \n",
       "2              46000    Petrol       Manual    18.2   1199   88.7    5.0   \n",
       "3              87000    Diesel       Manual   20.77   1248  88.76    7.0   \n",
       "4              40670    Diesel    Automatic    15.2   1968  140.8    5.0   \n",
       "\n",
       "  Mileage_UNIT Power_UNIT Engine_UNIT  \n",
       "0         kmpl        bhp          CC  \n",
       "1         kmpl        bhp          CC  \n",
       "2         kmpl        bhp          CC  \n",
       "3         kmpl        bhp          CC  \n",
       "4         kmpl        bhp          CC  "
      ]
     },
     "execution_count": 132,
     "metadata": {},
     "output_type": "execute_result"
    }
   ],
   "source": [
    "# 마일리지 값과 단위 분리\n",
    "df[['Mileage', 'Mileage_UNIT']] = df['Mileage'].str.split(expand = True)\n",
    "df[['Power', 'Power_UNIT']] = df['Power'].str.split(' ', expand = True)\n",
    "df[['Engine', 'Engine_UNIT']] = df['Engine'].str.split(' ', expand = True)\n",
    "\n",
    "df.head()"
   ]
  },
  {
   "cell_type": "code",
   "execution_count": 133,
   "id": "0a7769f6",
   "metadata": {},
   "outputs": [
    {
     "data": {
      "text/html": [
       "<div>\n",
       "<style scoped>\n",
       "    .dataframe tbody tr th:only-of-type {\n",
       "        vertical-align: middle;\n",
       "    }\n",
       "\n",
       "    .dataframe tbody tr th {\n",
       "        vertical-align: top;\n",
       "    }\n",
       "\n",
       "    .dataframe thead th {\n",
       "        text-align: right;\n",
       "    }\n",
       "</style>\n",
       "<table border=\"1\" class=\"dataframe\">\n",
       "  <thead>\n",
       "    <tr style=\"text-align: right;\">\n",
       "      <th></th>\n",
       "      <th>Name</th>\n",
       "      <th>Location</th>\n",
       "      <th>Price</th>\n",
       "      <th>Year</th>\n",
       "      <th>Kilometers_Driven</th>\n",
       "      <th>Fuel_Type</th>\n",
       "      <th>Transmission</th>\n",
       "      <th>Mileage</th>\n",
       "      <th>Engine</th>\n",
       "      <th>Power</th>\n",
       "      <th>Seats</th>\n",
       "    </tr>\n",
       "  </thead>\n",
       "  <tbody>\n",
       "    <tr>\n",
       "      <th>0</th>\n",
       "      <td>Maruti Wagon R LXI CNG</td>\n",
       "      <td>Mumbai</td>\n",
       "      <td>2682.68</td>\n",
       "      <td>2010</td>\n",
       "      <td>72000</td>\n",
       "      <td>CNG</td>\n",
       "      <td>Manual</td>\n",
       "      <td>26.6</td>\n",
       "      <td>998</td>\n",
       "      <td>58.16</td>\n",
       "      <td>5.0</td>\n",
       "    </tr>\n",
       "    <tr>\n",
       "      <th>1</th>\n",
       "      <td>Hyundai Creta 1.6 CRDi SX Option</td>\n",
       "      <td>Pune</td>\n",
       "      <td>19162.00</td>\n",
       "      <td>2015</td>\n",
       "      <td>41000</td>\n",
       "      <td>Diesel</td>\n",
       "      <td>Manual</td>\n",
       "      <td>19.67</td>\n",
       "      <td>1582</td>\n",
       "      <td>126.2</td>\n",
       "      <td>5.0</td>\n",
       "    </tr>\n",
       "    <tr>\n",
       "      <th>2</th>\n",
       "      <td>Honda Jazz V</td>\n",
       "      <td>Chennai</td>\n",
       "      <td>6898.32</td>\n",
       "      <td>2011</td>\n",
       "      <td>46000</td>\n",
       "      <td>Petrol</td>\n",
       "      <td>Manual</td>\n",
       "      <td>18.2</td>\n",
       "      <td>1199</td>\n",
       "      <td>88.7</td>\n",
       "      <td>5.0</td>\n",
       "    </tr>\n",
       "    <tr>\n",
       "      <th>3</th>\n",
       "      <td>Maruti Ertiga VDI</td>\n",
       "      <td>Chennai</td>\n",
       "      <td>9197.76</td>\n",
       "      <td>2012</td>\n",
       "      <td>87000</td>\n",
       "      <td>Diesel</td>\n",
       "      <td>Manual</td>\n",
       "      <td>20.77</td>\n",
       "      <td>1248</td>\n",
       "      <td>88.76</td>\n",
       "      <td>7.0</td>\n",
       "    </tr>\n",
       "    <tr>\n",
       "      <th>4</th>\n",
       "      <td>Audi A4 New 2.0 TDI Multitronic</td>\n",
       "      <td>Coimbatore</td>\n",
       "      <td>27194.71</td>\n",
       "      <td>2013</td>\n",
       "      <td>40670</td>\n",
       "      <td>Diesel</td>\n",
       "      <td>Automatic</td>\n",
       "      <td>15.2</td>\n",
       "      <td>1968</td>\n",
       "      <td>140.8</td>\n",
       "      <td>5.0</td>\n",
       "    </tr>\n",
       "  </tbody>\n",
       "</table>\n",
       "</div>"
      ],
      "text/plain": [
       "                               Name    Location     Price  Year  \\\n",
       "0            Maruti Wagon R LXI CNG      Mumbai   2682.68  2010   \n",
       "1  Hyundai Creta 1.6 CRDi SX Option        Pune  19162.00  2015   \n",
       "2                      Honda Jazz V     Chennai   6898.32  2011   \n",
       "3                 Maruti Ertiga VDI     Chennai   9197.76  2012   \n",
       "4   Audi A4 New 2.0 TDI Multitronic  Coimbatore  27194.71  2013   \n",
       "\n",
       "   Kilometers_Driven Fuel_Type Transmission Mileage Engine  Power  Seats  \n",
       "0              72000       CNG       Manual    26.6    998  58.16    5.0  \n",
       "1              41000    Diesel       Manual   19.67   1582  126.2    5.0  \n",
       "2              46000    Petrol       Manual    18.2   1199   88.7    5.0  \n",
       "3              87000    Diesel       Manual   20.77   1248  88.76    7.0  \n",
       "4              40670    Diesel    Automatic    15.2   1968  140.8    5.0  "
      ]
     },
     "execution_count": 133,
     "metadata": {},
     "output_type": "execute_result"
    }
   ],
   "source": [
    "# 분리된 마일리지 단위 변수 삭제\n",
    "df = df.drop(['Mileage_UNIT','Power_UNIT','Engine_UNIT'], axis = 1)\n",
    "\n",
    "df.head()"
   ]
  },
  {
   "cell_type": "code",
   "execution_count": 134,
   "id": "1efe979c",
   "metadata": {},
   "outputs": [
    {
     "name": "stdout",
     "output_type": "stream",
     "text": [
      "<class 'pandas.core.frame.DataFrame'>\n",
      "Int64Index: 7083 entries, 0 to 7252\n",
      "Data columns (total 11 columns):\n",
      " #   Column             Non-Null Count  Dtype  \n",
      "---  ------             --------------  -----  \n",
      " 0   Name               7083 non-null   object \n",
      " 1   Location           7083 non-null   object \n",
      " 2   Price              7083 non-null   float64\n",
      " 3   Year               7083 non-null   int64  \n",
      " 4   Kilometers_Driven  7083 non-null   int64  \n",
      " 5   Fuel_Type          7083 non-null   object \n",
      " 6   Transmission       7083 non-null   object \n",
      " 7   Mileage            7083 non-null   object \n",
      " 8   Engine             7083 non-null   object \n",
      " 9   Power              7083 non-null   object \n",
      " 10  Seats              7083 non-null   float64\n",
      "dtypes: float64(2), int64(2), object(7)\n",
      "memory usage: 922.1+ KB\n"
     ]
    }
   ],
   "source": [
    "df.info()"
   ]
  },
  {
   "cell_type": "code",
   "execution_count": 135,
   "id": "531471c4",
   "metadata": {},
   "outputs": [],
   "source": [
    "# df_cleaned에서 'Power' 열의 'null' 값을 NaN으로 변환\n",
    "df['Power'] = df['Power'].replace('null', np.nan).astype(float)"
   ]
  },
  {
   "cell_type": "code",
   "execution_count": 136,
   "id": "0f000ae2",
   "metadata": {},
   "outputs": [
    {
     "data": {
      "text/plain": [
       "Name                   0\n",
       "Location               0\n",
       "Price                  0\n",
       "Year                   0\n",
       "Kilometers_Driven      0\n",
       "Fuel_Type              0\n",
       "Transmission           0\n",
       "Mileage                0\n",
       "Engine                 0\n",
       "Power                125\n",
       "Seats                  0\n",
       "dtype: int64"
      ]
     },
     "execution_count": 136,
     "metadata": {},
     "output_type": "execute_result"
    }
   ],
   "source": [
    "df.isnull().sum()"
   ]
  },
  {
   "cell_type": "code",
   "execution_count": 137,
   "id": "00c164cd",
   "metadata": {
    "scrolled": true
   },
   "outputs": [
    {
     "name": "stdout",
     "output_type": "stream",
     "text": [
      "Name\n",
      "Audi A4 3.2 FSI Tiptronic Quattro           1\n",
      "Chevrolet Optra 1.6 Elite                   1\n",
      "Fiat Petra 1.2 EL                           1\n",
      "Fiat Siena 1.2 ELX                          1\n",
      "Ford Endeavour Hurricane LE                 1\n",
      "Ford Endeavour XLT TDCi 4X4                 1\n",
      "Ford Fiesta 1.4 SXi TDCi                    4\n",
      "Ford Fiesta 1.6 SXI ABS Duratec             1\n",
      "Honda CR-V Sport                            1\n",
      "Hyundai Santro AT                           1\n",
      "Hyundai Santro DX                           1\n",
      "Hyundai Santro GLS I - Euro I               2\n",
      "Hyundai Santro GLS I - Euro II              3\n",
      "Hyundai Santro GS                           1\n",
      "Hyundai Santro GS zipDrive - Euro II        1\n",
      "Hyundai Santro LP - Euro II                 1\n",
      "Hyundai Santro LS zipPlus                   2\n",
      "Hyundai Santro Xing XG eRLX Euro III        2\n",
      "Hyundai Santro Xing XL                      7\n",
      "Hyundai Santro Xing XL AT eRLX Euro II      1\n",
      "Hyundai Santro Xing XL AT eRLX Euro III     1\n",
      "Hyundai Santro Xing XL eRLX Euro III        7\n",
      "Hyundai Santro Xing XO                      5\n",
      "Hyundai Santro Xing XO CNG                  1\n",
      "Hyundai Santro Xing XO eRLX Euro II         5\n",
      "Hyundai Santro Xing XP                      5\n",
      "Mahindra Bolero ZLX                         1\n",
      "Mahindra Jeep MM 540 DP                     1\n",
      "Mahindra Jeep MM 550 PE                     1\n",
      "Maruti 1000 AC                              1\n",
      "Maruti Baleno LXI - BSIII                   1\n",
      "Maruti Baleno Vxi                           1\n",
      "Maruti Esteem LX BSII                       1\n",
      "Maruti Esteem Vxi                           2\n",
      "Maruti Estilo LXI                           3\n",
      "Maruti Swift VDI BSIV                      12\n",
      "Maruti Swift VDI BSIV W ABS                 6\n",
      "Mercedes-Benz E-Class 220 CDI               2\n",
      "Nissan Micra Diesel                         1\n",
      "Nissan Teana 230jM                          3\n",
      "Porsche Cayman 2009-2012 S                  1\n",
      "Porsche Cayman 2009-2012 S tiptronic        1\n",
      "Skoda Laura Classic 1.8 TSI                 1\n",
      "Smart Fortwo CDI AT                         1\n",
      "Tata Indica DLS                             4\n",
      "Toyota Etios GD                             8\n",
      "Toyota Etios Liva G                         4\n",
      "Toyota Etios Liva GD                        8\n",
      "Toyota Qualis Fleet A3                      1\n",
      "Toyota Qualis RS E2                         1\n",
      "Volkswagen Jetta 2007-2011 1.9 L TDI        1\n",
      "dtype: int64\n"
     ]
    },
    {
     "data": {
      "text/plain": [
       "125"
      ]
     },
     "execution_count": 137,
     "metadata": {},
     "output_type": "execute_result"
    }
   ],
   "source": [
    "nan_powers = df[df['Power'].isnull()].groupby('Name').size()\n",
    "print(nan_powers)\n",
    "sum_nan_powers = sum(nan_powers)\n",
    "sum_nan_powers"
   ]
  },
  {
   "cell_type": "code",
   "execution_count": 138,
   "id": "bc95e25f",
   "metadata": {},
   "outputs": [],
   "source": [
    "df['Power'] = df['Power'].replace('null bhp', pd.NA)"
   ]
  },
  {
   "cell_type": "code",
   "execution_count": 139,
   "id": "30cc3b1c",
   "metadata": {},
   "outputs": [],
   "source": [
    "# Hyundai Santro 차량들만 필터링\n",
    "santro_cars = df[df['Name'].str.contains('Hyundai Santro', na=False)]\n",
    "\n",
    "# Hyundai Santro 차량들의 'Power' 열의 평균값 계산 (NaN 제외)\n",
    "santro_power_mean = santro_cars['Power'].mean()\n",
    "\n",
    "# Hyundai Santro 차량들 중 'Power' 열의 결측치를 평균값으로 채우기\n",
    "df.loc[df['Name'].str.contains('Hyundai Santro', na=False), 'Power'] = df.loc[df['Name'].str.contains('Hyundai Santro', na=False), 'Power'].fillna(santro_power_mean)"
   ]
  },
  {
   "cell_type": "code",
   "execution_count": 140,
   "id": "94dd47df",
   "metadata": {},
   "outputs": [],
   "source": [
    "# Ford Endeavour 차량들만 필터링\n",
    "santro_cars = df[df['Name'].str.contains('Ford Endeavour', na=False)]\n",
    "\n",
    "# Ford Endeavour 차량들의 'Power' 열의 평균값 계산 (NaN 제외)\n",
    "santro_power_mean = santro_cars['Power'].mean()\n",
    "\n",
    "# Ford Endeavour 차량들 중 'Power' 열의 결측치를 평균값으로 채우기\n",
    "df.loc[df['Name'].str.contains('Ford Endeavour', na=False), 'Power'] = df.loc[df['Name'].str.contains('Ford Endeavour', na=False), 'Power'].fillna(santro_power_mean)"
   ]
  },
  {
   "cell_type": "code",
   "execution_count": 141,
   "id": "f852e31c",
   "metadata": {},
   "outputs": [],
   "source": [
    "# Ford Fiesta 1.4 SXi TDCi 차량들만 필터링\n",
    "santro_cars = df[df['Name'].str.contains('Ford Fiesta 1.4 SXi TDCi', na=False)]\n",
    "\n",
    "# Ford Fiesta 1.4 SXi TDCi차량들의 'Power' 열의 평균값 계산 (NaN 제외)\n",
    "santro_power_mean = santro_cars['Power'].mean()\n",
    "\n",
    "# Ford Fiesta 1.4 SXi TDCi 차량들 중 'Power' 열의 결측치를 평균값으로 채우기\n",
    "df.loc[df['Name'].str.contains('Ford Fiesta 1.4 SXi TDCi', na=False), 'Power'] = df.loc[df['Name'].str.contains('Ford Fiesta 1.4 SXi TDCi', na=False), 'Power'].fillna(santro_power_mean)"
   ]
  },
  {
   "cell_type": "code",
   "execution_count": 142,
   "id": "be5daf59",
   "metadata": {},
   "outputs": [],
   "source": [
    "# Maruti Swift 차량들만 필터링\n",
    "santro_cars = df[df['Name'].str.contains('Maruti Swift', na=False)]\n",
    "\n",
    "# Maruti Swift 차량들의 'Power' 열의 평균값 계산 (NaN 제외)\n",
    "santro_power_mean = santro_cars['Power'].mean()\n",
    "\n",
    "# Maruti Swift 차량들 중 'Power' 열의 결측치를 평균값으로 채우기\n",
    "df.loc[df['Name'].str.contains('Maruti Swift', na=False), 'Power'] = df.loc[df['Name'].str.contains('Maruti Swift', na=False), 'Power'].fillna(santro_power_mean)"
   ]
  },
  {
   "cell_type": "code",
   "execution_count": 143,
   "id": "7b5e5de2",
   "metadata": {},
   "outputs": [],
   "source": [
    "# Toyota Etios 차량들만 필터링\n",
    "santro_cars = df[df['Name'].str.contains('Toyota Etios', na=False)]\n",
    "\n",
    "# Toyota Etios 차량들의 'Power' 열의 평균값 계산 (NaN 제외)\n",
    "santro_power_mean = santro_cars['Power'].mean()\n",
    "\n",
    "# Toyota Etios 차량들 중 'Power' 열의 결측치를 평균값으로 채우기\n",
    "df.loc[df['Name'].str.contains('Toyota Etios', na=False), 'Power'] = df.loc[df['Name'].str.contains('Toyota Etios', na=False), 'Power'].fillna(santro_power_mean)"
   ]
  },
  {
   "cell_type": "code",
   "execution_count": 144,
   "id": "f9e24530",
   "metadata": {},
   "outputs": [],
   "source": [
    "# Ford Endeavour 차량들만 필터링\n",
    "santro_cars = df[df['Name'].str.contains('Maruti E', na=False)]\n",
    "\n",
    "# Ford Endeavour 차량들의 'Power' 열의 평균값 계산 (NaN 제외)\n",
    "santro_power_mean = santro_cars['Power'].mean()\n",
    "\n",
    "# Ford Endeavour 차량들 중 'Power' 열의 결측치를 평균값으로 채우기\n",
    "df.loc[df['Name'].str.contains('Maruti E', na=False), 'Power'] = df.loc[df['Name'].str.contains('Maruti E', na=False), 'Power'].fillna(santro_power_mean)"
   ]
  },
  {
   "cell_type": "code",
   "execution_count": 110,
   "id": "18b1392d",
   "metadata": {},
   "outputs": [
    {
     "name": "stdout",
     "output_type": "stream",
     "text": [
      "Name\n",
      "Audi A4 3.2 FSI Tiptronic Quattro       1\n",
      "Chevrolet Optra 1.6 Elite               1\n",
      "Fiat Petra 1.2 EL                       1\n",
      "Fiat Siena 1.2 ELX                      1\n",
      "Ford Fiesta 1.6 SXI ABS Duratec         1\n",
      "Honda CR-V Sport                        1\n",
      "Mahindra Bolero ZLX                     1\n",
      "Mahindra Jeep MM 540 DP                 1\n",
      "Mahindra Jeep MM 550 PE                 1\n",
      "Maruti 1000 AC                          1\n",
      "Maruti Baleno LXI - BSIII               1\n",
      "Maruti Baleno Vxi                       1\n",
      "Mercedes-Benz E-Class 220 CDI           2\n",
      "Nissan Micra Diesel                     1\n",
      "Nissan Teana 230jM                      3\n",
      "Porsche Cayman 2009-2012 S              1\n",
      "Porsche Cayman 2009-2012 S tiptronic    1\n",
      "Skoda Laura Classic 1.8 TSI             1\n",
      "Smart Fortwo CDI AT                     1\n",
      "Tata Indica DLS                         4\n",
      "Toyota Qualis Fleet A3                  1\n",
      "Toyota Qualis RS E2                     1\n",
      "Volkswagen Jetta 2007-2011 1.9 L TDI    1\n",
      "dtype: int64\n"
     ]
    },
    {
     "data": {
      "text/plain": [
       "29"
      ]
     },
     "execution_count": 110,
     "metadata": {},
     "output_type": "execute_result"
    }
   ],
   "source": [
    "nan_powers = df[df['Power'].isnull()].groupby('Name').size()\n",
    "print(nan_powers)\n",
    "sum_nan_powers = sum(nan_powers)\n",
    "sum_nan_powers"
   ]
  },
  {
   "cell_type": "code",
   "execution_count": 155,
   "id": "5b3a3c40",
   "metadata": {},
   "outputs": [],
   "source": [
    "#결측치 있는 행 제거\n",
    "df_raw = df.dropna(subset=['Power'])"
   ]
  },
  {
   "cell_type": "code",
   "execution_count": 156,
   "id": "628dd950",
   "metadata": {},
   "outputs": [
    {
     "name": "stdout",
     "output_type": "stream",
     "text": [
      "Series([], dtype: int64)\n"
     ]
    },
    {
     "data": {
      "text/plain": [
       "0"
      ]
     },
     "execution_count": 156,
     "metadata": {},
     "output_type": "execute_result"
    }
   ],
   "source": [
    "#결측치 확인\n",
    "nan_powers = df[df['Power'].isnull()].groupby('Name').size()\n",
    "print(nan_powers)\n",
    "sum_nan_powers = sum(nan_powers)\n",
    "sum_nan_powers"
   ]
  },
  {
   "cell_type": "code",
   "execution_count": 157,
   "id": "15d5afea",
   "metadata": {},
   "outputs": [],
   "source": [
    "# 데이터 전처리\n",
    "# Location 열을 라벨 인코딩하여 정수로 변환.\n",
    "# Name 열에서 각 이름의 앞 두 단어만 남김.\n",
    "\n",
    "label_encoder = LabelEncoder()\n",
    "df['Location'] = label_encoder.fit_transform(df['Location'])"
   ]
  },
  {
   "cell_type": "code",
   "execution_count": 158,
   "id": "70352bc8",
   "metadata": {},
   "outputs": [
    {
     "data": {
      "image/png": "[encoded data removed]",
      "text/plain": [
       "<Figure size 1000x600 with 1 Axes>"
      ]
     },
     "metadata": {},
     "output_type": "display_data"
    }
   ],
   "source": [
    "plt.figure(figsize=(10, 6))\n",
    "sns.histplot(df, x='Year', bins=20, kde=True)\n",
    "plt.title('연도별 자동차 가격 분포')\n",
    "plt.xlabel('Year')\n",
    "plt.ylabel('Frequency')\n",
    "plt.show()"
   ]
  },
  {
   "cell_type": "code",
   "execution_count": 159,
   "id": "b2f92108",
   "metadata": {},
   "outputs": [
    {
     "data": {
      "image/png": "[encoded data removed]",
      "text/plain": [
       "<Figure size 1000x600 with 1 Axes>"
      ]
     },
     "metadata": {},
     "output_type": "display_data"
    }
   ],
   "source": [
    "# 주행 거리별 자동차 가격 분포\n",
    "plt.figure(figsize=(10, 6))\n",
    "sns.histplot(df, x='Kilometers_Driven', bins=20, kde=True)\n",
    "plt.title('주행 거리별 자동차 가격 분포')\n",
    "plt.xlabel('Kilometers Driven')\n",
    "plt.ylabel('Frequency')\n",
    "plt.show()"
   ]
  },
  {
   "cell_type": "code",
   "execution_count": 160,
   "id": "deb10c6c",
   "metadata": {},
   "outputs": [
    {
     "data": {
      "image/png": "[encoded data removed]",
      "text/plain": [
       "<Figure size 1400x800 with 1 Axes>"
      ]
     },
     "metadata": {},
     "output_type": "display_data"
    }
   ],
   "source": [
    "# 위치별 자동차 가격의 박스 플롯\n",
    "plt.figure(figsize=(14, 8))\n",
    "sns.boxplot(x='Location', y='Price', data=df)\n",
    "plt.title('위치별 자동차 가격의 박스 플롯')\n",
    "plt.xlabel('Location')\n",
    "plt.ylabel('Price')\n",
    "plt.xticks(rotation=45)\n",
    "plt.show()"
   ]
  },
  {
   "cell_type": "markdown",
   "id": "69e240c4",
   "metadata": {},
   "source": [
    "그래프 그리기\n",
    " 1.연도별 자동차 가격 분포\n",
    " 2.주행 거리별 자동차 가격 분포\n",
    " 3.위치별 자동차 가격의 박스 플롯\n",
    "\n",
    "그래프 분석 결과\n",
    " 2015년 연식의 자동차까지는 판매량이 증가하다 점차 감소\n",
    " 주행 거리가 많을수록 자동차 가격이 낮아진다"
   ]
  },
  {
   "cell_type": "code",
   "execution_count": 161,
   "id": "49331340",
   "metadata": {},
   "outputs": [
    {
     "name": "stdout",
     "output_type": "stream",
     "text": [
      "T-test result: t_stat=-9.38203455613607, p_value=2.800522451628911e-20\n",
      "ANOVA result: f_stat=44.41316516954844, p_value=2.4285442910274997e-86\n",
      "Chi-squared test result: chi2_stat=284.555609810596, p_value=2.868591972742407e-43, dof=30\n"
     ]
    }
   ],
   "source": [
    "# T-검정: 2010년과 2015년의 평균 자동차 가격 비교\n",
    "prices_2010 = df_raw[df_raw['Year'] == 2010]['Price']\n",
    "prices_2015 = df_raw[df_raw['Year'] == 2015]['Price']\n",
    "\n",
    "t_stat, p_value = ttest_ind(prices_2010, prices_2015, nan_policy='omit')\n",
    "print(f\"T-test result: t_stat={t_stat}, p_value={p_value}\")\n",
    "\n",
    "# ANOVA (F-검정): 여러 위치의 자동차 가격 평균 비교\n",
    "grouped_prices = [df_raw[df_raw['Location'] == loc]['Price'] for loc in df_raw['Location'].unique()]\n",
    "grouped_prices_cleaned = [group.dropna() for group in grouped_prices]\n",
    "\n",
    "f_stat, p_value = f_oneway(*grouped_prices_cleaned)\n",
    "print(f\"ANOVA result: f_stat={f_stat}, p_value={p_value}\")\n",
    "\n",
    "# 카이제곱 검정: Location과 Fuel_Type 간의 독립성 검정\n",
    "contingency_table = pd.crosstab(df_raw['Location'], df_raw['Fuel_Type'])\n",
    "chi2_stat, p_val, dof, expected = chi2_contingency(contingency_table)\n",
    "print(f\"Chi-squared test result: chi2_stat={chi2_stat}, p_value={p_val}, dof={dof}\")"
   ]
  },
  {
   "cell_type": "code",
   "execution_count": 162,
   "id": "65431745",
   "metadata": {},
   "outputs": [
    {
     "data": {
      "text/plain": [
       "Mahindra XUV500 W8 2WD                  55\n",
       "Maruti Swift VDI                        49\n",
       "Maruti Swift Dzire VDI                  42\n",
       "Honda City 1.5 S MT                     39\n",
       "Maruti Swift VDI BSIV                   37\n",
       "                                        ..\n",
       "Maruti S Cross DDiS 200 Sigma Option     1\n",
       "Mahindra Xylo D2 BS III                  1\n",
       "Porsche Cayenne Base                     1\n",
       "Skoda Yeti Elegance 4X2                  1\n",
       "Hyundai Elite i20 Magna Plus             1\n",
       "Name: Name, Length: 1881, dtype: int64"
      ]
     },
     "execution_count": 162,
     "metadata": {},
     "output_type": "execute_result"
    }
   ],
   "source": [
    "df['Name'].value_counts()"
   ]
  },
  {
   "cell_type": "code",
   "execution_count": 163,
   "id": "52feb68e",
   "metadata": {},
   "outputs": [
    {
     "data": {
      "text/plain": [
       "count       7054\n",
       "unique        29\n",
       "top       Maruti\n",
       "freq        1417\n",
       "Name: Name, dtype: object"
      ]
     },
     "execution_count": 163,
     "metadata": {},
     "output_type": "execute_result"
    }
   ],
   "source": [
    "df_raw['Name'] = df['Name'].apply(lambda x : ' '.join(x.split()[:1]))\n",
    "df_raw['Name'].describe()"
   ]
  },
  {
   "cell_type": "code",
   "execution_count": 164,
   "id": "9077cc8f",
   "metadata": {},
   "outputs": [
    {
     "data": {
      "text/plain": [
       "Maruti           1417\n",
       "Hyundai          1313\n",
       "Honda             725\n",
       "Toyota            494\n",
       "Mercedes-Benz     372\n",
       "Volkswagen        368\n",
       "Ford              344\n",
       "Mahindra          314\n",
       "BMW               302\n",
       "Audi              281\n",
       "Tata              215\n",
       "Skoda             196\n",
       "Renault           166\n",
       "Chevrolet         144\n",
       "Nissan            109\n",
       "Land               60\n",
       "Jaguar             48\n",
       "Mitsubishi         36\n",
       "Mini               31\n",
       "Fiat               28\n",
       "Volvo              27\n",
       "Jeep               19\n",
       "Porsche            17\n",
       "Datsun             17\n",
       "Name: Name, dtype: int64"
      ]
     },
     "execution_count": 164,
     "metadata": {},
     "output_type": "execute_result"
    }
   ],
   "source": [
    "name_counts = df_raw['Name'].value_counts()\n",
    "names_to_keep = name_counts[name_counts > 10].index\n",
    "df_raw = df_raw[df_raw['Name'].isin(names_to_keep)]\n",
    "\n",
    "df_raw['Name'].value_counts()"
   ]
  },
  {
   "cell_type": "code",
   "execution_count": 165,
   "id": "48e759d4",
   "metadata": {},
   "outputs": [
    {
     "name": "stdout",
     "output_type": "stream",
     "text": [
      "               Name  Location         Price  Year  Kilometers_Driven  \\\n",
      "0            Maruti         9   2682.680000  2010              72000   \n",
      "1           Hyundai        10  19162.000000  2015              41000   \n",
      "2             Honda         2   6898.320000  2011              46000   \n",
      "3            Maruti         2   9197.760000  2012              87000   \n",
      "4              Audi         3  27194.710000  2013              40670   \n",
      "...             ...       ...           ...   ...                ...   \n",
      "7248     Volkswagen         5   6080.740000  2011              89411   \n",
      "7249     Volkswagen         9  10564.010000  2015              59000   \n",
      "7250         Nissan         8   5004.021429  2012              28000   \n",
      "7251     Volkswagen        10  10564.010000  2013              52262   \n",
      "7252  Mercedes-Benz         7  32514.082000  2014              72443   \n",
      "\n",
      "     Fuel_Type Transmission Mileage Engine   Power  Seats  \n",
      "0          CNG       Manual    26.6    998   58.16    5.0  \n",
      "1       Diesel       Manual   19.67   1582  126.20    5.0  \n",
      "2       Petrol       Manual    18.2   1199   88.70    5.0  \n",
      "3       Diesel       Manual   20.77   1248   88.76    7.0  \n",
      "4       Diesel    Automatic    15.2   1968  140.80    5.0  \n",
      "...        ...          ...     ...    ...     ...    ...  \n",
      "7248    Diesel       Manual   20.54   1598  103.60    5.0  \n",
      "7249    Petrol    Automatic   17.21   1197  103.60    5.0  \n",
      "7250    Diesel       Manual   23.08   1461   63.10    5.0  \n",
      "7251    Petrol    Automatic    17.2   1197  103.60    5.0  \n",
      "7252    Diesel    Automatic    10.0   2148  170.00    5.0  \n",
      "\n",
      "[7043 rows x 11 columns]\n"
     ]
    }
   ],
   "source": [
    "print(df_raw) "
   ]
  },
  {
   "cell_type": "markdown",
   "id": "67bec110",
   "metadata": {},
   "source": [
    "### 범주형 변수 값 확인"
   ]
  },
  {
   "cell_type": "code",
   "execution_count": 166,
   "id": "d6cfbc5d",
   "metadata": {},
   "outputs": [
    {
     "data": {
      "text/plain": [
       "Diesel    3761\n",
       "Petrol    3210\n",
       "CNG         61\n",
       "LPG         11\n",
       "Name: Fuel_Type, dtype: int64"
      ]
     },
     "execution_count": 166,
     "metadata": {},
     "output_type": "execute_result"
    }
   ],
   "source": [
    "# 범주형 변수 - Fuel_Type 빈도 확인 (결측값이 없으므로 이상치만 확인)\n",
    "\n",
    "df_raw.Fuel_Type.value_counts()"
   ]
  },
  {
   "cell_type": "code",
   "execution_count": 167,
   "id": "88f4b389",
   "metadata": {},
   "outputs": [
    {
     "data": {
      "text/plain": [
       "Manual       5046\n",
       "Automatic    1997\n",
       "Name: Transmission, dtype: int64"
      ]
     },
     "execution_count": 167,
     "metadata": {},
     "output_type": "execute_result"
    }
   ],
   "source": [
    "# 범주형 변수 - Transmission 빈도 확인 (결측값이 없으므로 이상치만 확인)\n",
    "\n",
    "df_raw.Transmission.value_counts()"
   ]
  },
  {
   "cell_type": "code",
   "execution_count": 168,
   "id": "12cc873e",
   "metadata": {},
   "outputs": [
    {
     "data": {
      "text/html": [
       "<div>\n",
       "<style scoped>\n",
       "    .dataframe tbody tr th:only-of-type {\n",
       "        vertical-align: middle;\n",
       "    }\n",
       "\n",
       "    .dataframe tbody tr th {\n",
       "        vertical-align: top;\n",
       "    }\n",
       "\n",
       "    .dataframe thead th {\n",
       "        text-align: right;\n",
       "    }\n",
       "</style>\n",
       "<table border=\"1\" class=\"dataframe\">\n",
       "  <thead>\n",
       "    <tr style=\"text-align: right;\">\n",
       "      <th></th>\n",
       "      <th>Name</th>\n",
       "      <th>Location</th>\n",
       "      <th>Price</th>\n",
       "      <th>Year</th>\n",
       "      <th>Kilometers_Driven</th>\n",
       "      <th>Fuel_Type</th>\n",
       "      <th>Transmission</th>\n",
       "      <th>Mileage</th>\n",
       "      <th>Engine</th>\n",
       "      <th>Power</th>\n",
       "      <th>Seats</th>\n",
       "    </tr>\n",
       "  </thead>\n",
       "  <tbody>\n",
       "  </tbody>\n",
       "</table>\n",
       "</div>"
      ],
      "text/plain": [
       "Empty DataFrame\n",
       "Columns: [Name, Location, Price, Year, Kilometers_Driven, Fuel_Type, Transmission, Mileage, Engine, Power, Seats]\n",
       "Index: []"
      ]
     },
     "execution_count": 168,
     "metadata": {},
     "output_type": "execute_result"
    }
   ],
   "source": [
    "# 마일리지 변수의 null 값 확인\n",
    "\n",
    "df_raw[df_raw['Mileage'].isnull()]"
   ]
  },
  {
   "cell_type": "markdown",
   "id": "2e348def",
   "metadata": {},
   "source": [
    "-> 4446 행은 Engine 변수에서 72CC 라는 낮은 값을 갖고 있으므로 결측치 대체 대신 행 삭제\n",
    "\n",
    "-> 나머지 결측값을 채우려고 하니 고려해야할 요소가 많아 행 삭제"
   ]
  },
  {
   "cell_type": "code",
   "execution_count": 169,
   "id": "2808274c",
   "metadata": {},
   "outputs": [],
   "source": [
    "df_cleaned = df_raw.dropna(subset = ['Mileage','Engine', 'Power'], inplace=False)"
   ]
  },
  {
   "cell_type": "code",
   "execution_count": 170,
   "id": "e540b751",
   "metadata": {},
   "outputs": [
    {
     "data": {
      "text/plain": [
       "Name                 0\n",
       "Location             0\n",
       "Price                0\n",
       "Year                 0\n",
       "Kilometers_Driven    0\n",
       "Fuel_Type            0\n",
       "Transmission         0\n",
       "Mileage              0\n",
       "Engine               0\n",
       "Power                0\n",
       "Seats                0\n",
       "dtype: int64"
      ]
     },
     "execution_count": 170,
     "metadata": {},
     "output_type": "execute_result"
    }
   ],
   "source": [
    "#지워졌는지 확인용\n",
    "\n",
    "df_cleaned.isnull().sum()"
   ]
  },
  {
   "cell_type": "code",
   "execution_count": 171,
   "id": "240bcb74",
   "metadata": {},
   "outputs": [
    {
     "data": {
      "text/html": [
       "<div>\n",
       "<style scoped>\n",
       "    .dataframe tbody tr th:only-of-type {\n",
       "        vertical-align: middle;\n",
       "    }\n",
       "\n",
       "    .dataframe tbody tr th {\n",
       "        vertical-align: top;\n",
       "    }\n",
       "\n",
       "    .dataframe thead th {\n",
       "        text-align: right;\n",
       "    }\n",
       "</style>\n",
       "<table border=\"1\" class=\"dataframe\">\n",
       "  <thead>\n",
       "    <tr style=\"text-align: right;\">\n",
       "      <th></th>\n",
       "      <th>Name</th>\n",
       "      <th>Location</th>\n",
       "      <th>Price</th>\n",
       "      <th>Year</th>\n",
       "      <th>Kilometers_Driven</th>\n",
       "      <th>Fuel_Type</th>\n",
       "      <th>Transmission</th>\n",
       "      <th>Mileage</th>\n",
       "      <th>Engine</th>\n",
       "      <th>Power</th>\n",
       "      <th>Seats</th>\n",
       "    </tr>\n",
       "  </thead>\n",
       "  <tbody>\n",
       "    <tr>\n",
       "      <th>0</th>\n",
       "      <td>Maruti</td>\n",
       "      <td>9</td>\n",
       "      <td>2682.68</td>\n",
       "      <td>2010</td>\n",
       "      <td>72000</td>\n",
       "      <td>CNG</td>\n",
       "      <td>Manual</td>\n",
       "      <td>26.6</td>\n",
       "      <td>998</td>\n",
       "      <td>58.16</td>\n",
       "      <td>5.0</td>\n",
       "    </tr>\n",
       "    <tr>\n",
       "      <th>1</th>\n",
       "      <td>Hyundai</td>\n",
       "      <td>10</td>\n",
       "      <td>19162.00</td>\n",
       "      <td>2015</td>\n",
       "      <td>41000</td>\n",
       "      <td>Diesel</td>\n",
       "      <td>Manual</td>\n",
       "      <td>19.67</td>\n",
       "      <td>1582</td>\n",
       "      <td>126.20</td>\n",
       "      <td>5.0</td>\n",
       "    </tr>\n",
       "    <tr>\n",
       "      <th>2</th>\n",
       "      <td>Honda</td>\n",
       "      <td>2</td>\n",
       "      <td>6898.32</td>\n",
       "      <td>2011</td>\n",
       "      <td>46000</td>\n",
       "      <td>Petrol</td>\n",
       "      <td>Manual</td>\n",
       "      <td>18.2</td>\n",
       "      <td>1199</td>\n",
       "      <td>88.70</td>\n",
       "      <td>5.0</td>\n",
       "    </tr>\n",
       "    <tr>\n",
       "      <th>3</th>\n",
       "      <td>Maruti</td>\n",
       "      <td>2</td>\n",
       "      <td>9197.76</td>\n",
       "      <td>2012</td>\n",
       "      <td>87000</td>\n",
       "      <td>Diesel</td>\n",
       "      <td>Manual</td>\n",
       "      <td>20.77</td>\n",
       "      <td>1248</td>\n",
       "      <td>88.76</td>\n",
       "      <td>7.0</td>\n",
       "    </tr>\n",
       "    <tr>\n",
       "      <th>4</th>\n",
       "      <td>Audi</td>\n",
       "      <td>3</td>\n",
       "      <td>27194.71</td>\n",
       "      <td>2013</td>\n",
       "      <td>40670</td>\n",
       "      <td>Diesel</td>\n",
       "      <td>Automatic</td>\n",
       "      <td>15.2</td>\n",
       "      <td>1968</td>\n",
       "      <td>140.80</td>\n",
       "      <td>5.0</td>\n",
       "    </tr>\n",
       "  </tbody>\n",
       "</table>\n",
       "</div>"
      ],
      "text/plain": [
       "      Name  Location     Price  Year  Kilometers_Driven Fuel_Type  \\\n",
       "0   Maruti         9   2682.68  2010              72000       CNG   \n",
       "1  Hyundai        10  19162.00  2015              41000    Diesel   \n",
       "2    Honda         2   6898.32  2011              46000    Petrol   \n",
       "3   Maruti         2   9197.76  2012              87000    Diesel   \n",
       "4     Audi         3  27194.71  2013              40670    Diesel   \n",
       "\n",
       "  Transmission Mileage Engine   Power  Seats  \n",
       "0       Manual    26.6    998   58.16    5.0  \n",
       "1       Manual   19.67   1582  126.20    5.0  \n",
       "2       Manual    18.2   1199   88.70    5.0  \n",
       "3       Manual   20.77   1248   88.76    7.0  \n",
       "4    Automatic    15.2   1968  140.80    5.0  "
      ]
     },
     "execution_count": 171,
     "metadata": {},
     "output_type": "execute_result"
    }
   ],
   "source": [
    "df_cleaned.head()"
   ]
  },
  {
   "cell_type": "code",
   "execution_count": 172,
   "id": "60a684bc",
   "metadata": {},
   "outputs": [],
   "source": [
    "# 마일리지 변수 타입 변경\n",
    "\n",
    "df_cleaned['Mileage'] = df_cleaned['Mileage'].astype('float64')"
   ]
  },
  {
   "cell_type": "code",
   "execution_count": 173,
   "id": "b4ce95b7",
   "metadata": {},
   "outputs": [
    {
     "data": {
      "text/plain": [
       "Name                 0\n",
       "Location             0\n",
       "Price                0\n",
       "Year                 0\n",
       "Kilometers_Driven    0\n",
       "Fuel_Type            0\n",
       "Transmission         0\n",
       "Mileage              0\n",
       "Engine               0\n",
       "Power                0\n",
       "Seats                0\n",
       "dtype: int64"
      ]
     },
     "execution_count": 173,
     "metadata": {},
     "output_type": "execute_result"
    }
   ],
   "source": [
    "df_cleaned.isnull().sum()"
   ]
  },
  {
   "cell_type": "code",
   "execution_count": 174,
   "id": "ab39a895",
   "metadata": {},
   "outputs": [
    {
     "data": {
      "text/html": [
       "<div>\n",
       "<style scoped>\n",
       "    .dataframe tbody tr th:only-of-type {\n",
       "        vertical-align: middle;\n",
       "    }\n",
       "\n",
       "    .dataframe tbody tr th {\n",
       "        vertical-align: top;\n",
       "    }\n",
       "\n",
       "    .dataframe thead th {\n",
       "        text-align: right;\n",
       "    }\n",
       "</style>\n",
       "<table border=\"1\" class=\"dataframe\">\n",
       "  <thead>\n",
       "    <tr style=\"text-align: right;\">\n",
       "      <th></th>\n",
       "      <th>Name</th>\n",
       "      <th>Location</th>\n",
       "      <th>Price</th>\n",
       "      <th>Year</th>\n",
       "      <th>Kilometers_Driven</th>\n",
       "      <th>Fuel_Type</th>\n",
       "      <th>Transmission</th>\n",
       "      <th>Mileage</th>\n",
       "      <th>Engine</th>\n",
       "      <th>Power</th>\n",
       "      <th>Seats</th>\n",
       "    </tr>\n",
       "  </thead>\n",
       "  <tbody>\n",
       "    <tr>\n",
       "      <th>0</th>\n",
       "      <td>Maruti</td>\n",
       "      <td>9</td>\n",
       "      <td>2682.68</td>\n",
       "      <td>2010</td>\n",
       "      <td>72000</td>\n",
       "      <td>CNG</td>\n",
       "      <td>Manual</td>\n",
       "      <td>26.60</td>\n",
       "      <td>998</td>\n",
       "      <td>58.16</td>\n",
       "      <td>5.0</td>\n",
       "    </tr>\n",
       "    <tr>\n",
       "      <th>1</th>\n",
       "      <td>Hyundai</td>\n",
       "      <td>10</td>\n",
       "      <td>19162.00</td>\n",
       "      <td>2015</td>\n",
       "      <td>41000</td>\n",
       "      <td>Diesel</td>\n",
       "      <td>Manual</td>\n",
       "      <td>19.67</td>\n",
       "      <td>1582</td>\n",
       "      <td>126.20</td>\n",
       "      <td>5.0</td>\n",
       "    </tr>\n",
       "    <tr>\n",
       "      <th>2</th>\n",
       "      <td>Honda</td>\n",
       "      <td>2</td>\n",
       "      <td>6898.32</td>\n",
       "      <td>2011</td>\n",
       "      <td>46000</td>\n",
       "      <td>Petrol</td>\n",
       "      <td>Manual</td>\n",
       "      <td>18.20</td>\n",
       "      <td>1199</td>\n",
       "      <td>88.70</td>\n",
       "      <td>5.0</td>\n",
       "    </tr>\n",
       "    <tr>\n",
       "      <th>3</th>\n",
       "      <td>Maruti</td>\n",
       "      <td>2</td>\n",
       "      <td>9197.76</td>\n",
       "      <td>2012</td>\n",
       "      <td>87000</td>\n",
       "      <td>Diesel</td>\n",
       "      <td>Manual</td>\n",
       "      <td>20.77</td>\n",
       "      <td>1248</td>\n",
       "      <td>88.76</td>\n",
       "      <td>7.0</td>\n",
       "    </tr>\n",
       "    <tr>\n",
       "      <th>4</th>\n",
       "      <td>Audi</td>\n",
       "      <td>3</td>\n",
       "      <td>27194.71</td>\n",
       "      <td>2013</td>\n",
       "      <td>40670</td>\n",
       "      <td>Diesel</td>\n",
       "      <td>Automatic</td>\n",
       "      <td>15.20</td>\n",
       "      <td>1968</td>\n",
       "      <td>140.80</td>\n",
       "      <td>5.0</td>\n",
       "    </tr>\n",
       "  </tbody>\n",
       "</table>\n",
       "</div>"
      ],
      "text/plain": [
       "      Name  Location     Price  Year  Kilometers_Driven Fuel_Type  \\\n",
       "0   Maruti         9   2682.68  2010              72000       CNG   \n",
       "1  Hyundai        10  19162.00  2015              41000    Diesel   \n",
       "2    Honda         2   6898.32  2011              46000    Petrol   \n",
       "3   Maruti         2   9197.76  2012              87000    Diesel   \n",
       "4     Audi         3  27194.71  2013              40670    Diesel   \n",
       "\n",
       "  Transmission  Mileage Engine   Power  Seats  \n",
       "0       Manual    26.60    998   58.16    5.0  \n",
       "1       Manual    19.67   1582  126.20    5.0  \n",
       "2       Manual    18.20   1199   88.70    5.0  \n",
       "3       Manual    20.77   1248   88.76    7.0  \n",
       "4    Automatic    15.20   1968  140.80    5.0  "
      ]
     },
     "execution_count": 174,
     "metadata": {},
     "output_type": "execute_result"
    }
   ],
   "source": [
    "df_cleaned.head()"
   ]
  },
  {
   "cell_type": "markdown",
   "id": "583cc0b6",
   "metadata": {},
   "source": [
    "### 마일리지 변수 이상치"
   ]
  },
  {
   "cell_type": "code",
   "execution_count": 175,
   "id": "06b4e982",
   "metadata": {},
   "outputs": [
    {
     "data": {
      "text/plain": [
       "<Axes: ylabel='Mileage'>"
      ]
     },
     "execution_count": 175,
     "metadata": {},
     "output_type": "execute_result"
    },
    {
     "data": {
      "image/png": "[encoded data removed]",
      "text/plain": [
       "<Figure size 1000x600 with 1 Axes>"
      ]
     },
     "metadata": {},
     "output_type": "display_data"
    }
   ],
   "source": [
    "# 마일리지 이상치 확인\n",
    "\n",
    "plt.figure(figsize=(10, 6))\n",
    "sns.boxplot(df_cleaned, y='Mileage')"
   ]
  },
  {
   "cell_type": "code",
   "execution_count": 176,
   "id": "c9d9347f",
   "metadata": {},
   "outputs": [
    {
     "data": {
      "text/html": [
       "<div>\n",
       "<style scoped>\n",
       "    .dataframe tbody tr th:only-of-type {\n",
       "        vertical-align: middle;\n",
       "    }\n",
       "\n",
       "    .dataframe tbody tr th {\n",
       "        vertical-align: top;\n",
       "    }\n",
       "\n",
       "    .dataframe thead th {\n",
       "        text-align: right;\n",
       "    }\n",
       "</style>\n",
       "<table border=\"1\" class=\"dataframe\">\n",
       "  <thead>\n",
       "    <tr style=\"text-align: right;\">\n",
       "      <th></th>\n",
       "      <th>Location</th>\n",
       "      <th>Price</th>\n",
       "      <th>Year</th>\n",
       "      <th>Kilometers_Driven</th>\n",
       "      <th>Mileage</th>\n",
       "      <th>Power</th>\n",
       "      <th>Seats</th>\n",
       "    </tr>\n",
       "  </thead>\n",
       "  <tbody>\n",
       "    <tr>\n",
       "      <th>count</th>\n",
       "      <td>7043.000000</td>\n",
       "      <td>7043.000000</td>\n",
       "      <td>7043.000000</td>\n",
       "      <td>7.043000e+03</td>\n",
       "      <td>7043.000000</td>\n",
       "      <td>7043.000000</td>\n",
       "      <td>7043.000000</td>\n",
       "    </tr>\n",
       "    <tr>\n",
       "      <th>mean</th>\n",
       "      <td>5.614227</td>\n",
       "      <td>14655.719108</td>\n",
       "      <td>2013.435752</td>\n",
       "      <td>5.841782e+04</td>\n",
       "      <td>18.257118</td>\n",
       "      <td>111.957022</td>\n",
       "      <td>5.277013</td>\n",
       "    </tr>\n",
       "    <tr>\n",
       "      <th>std</th>\n",
       "      <td>2.967467</td>\n",
       "      <td>17057.067353</td>\n",
       "      <td>3.189367</td>\n",
       "      <td>8.536115e+04</td>\n",
       "      <td>4.457124</td>\n",
       "      <td>52.488354</td>\n",
       "      <td>0.795342</td>\n",
       "    </tr>\n",
       "    <tr>\n",
       "      <th>min</th>\n",
       "      <td>0.000000</td>\n",
       "      <td>7.080000</td>\n",
       "      <td>1998.000000</td>\n",
       "      <td>1.710000e+02</td>\n",
       "      <td>0.000000</td>\n",
       "      <td>34.200000</td>\n",
       "      <td>2.000000</td>\n",
       "    </tr>\n",
       "    <tr>\n",
       "      <th>25%</th>\n",
       "      <td>3.000000</td>\n",
       "      <td>5365.360000</td>\n",
       "      <td>2012.000000</td>\n",
       "      <td>3.390800e+04</td>\n",
       "      <td>15.300000</td>\n",
       "      <td>75.000000</td>\n",
       "      <td>5.000000</td>\n",
       "    </tr>\n",
       "    <tr>\n",
       "      <th>50%</th>\n",
       "      <td>6.000000</td>\n",
       "      <td>8717.944000</td>\n",
       "      <td>2014.000000</td>\n",
       "      <td>5.300000e+04</td>\n",
       "      <td>18.300000</td>\n",
       "      <td>91.720000</td>\n",
       "      <td>5.000000</td>\n",
       "    </tr>\n",
       "    <tr>\n",
       "      <th>75%</th>\n",
       "      <td>8.000000</td>\n",
       "      <td>15475.232500</td>\n",
       "      <td>2016.000000</td>\n",
       "      <td>7.269450e+04</td>\n",
       "      <td>21.100000</td>\n",
       "      <td>138.030000</td>\n",
       "      <td>5.000000</td>\n",
       "    </tr>\n",
       "    <tr>\n",
       "      <th>max</th>\n",
       "      <td>10.000000</td>\n",
       "      <td>245273.600000</td>\n",
       "      <td>2019.000000</td>\n",
       "      <td>6.500000e+06</td>\n",
       "      <td>33.540000</td>\n",
       "      <td>550.000000</td>\n",
       "      <td>10.000000</td>\n",
       "    </tr>\n",
       "  </tbody>\n",
       "</table>\n",
       "</div>"
      ],
      "text/plain": [
       "          Location          Price         Year  Kilometers_Driven  \\\n",
       "count  7043.000000    7043.000000  7043.000000       7.043000e+03   \n",
       "mean      5.614227   14655.719108  2013.435752       5.841782e+04   \n",
       "std       2.967467   17057.067353     3.189367       8.536115e+04   \n",
       "min       0.000000       7.080000  1998.000000       1.710000e+02   \n",
       "25%       3.000000    5365.360000  2012.000000       3.390800e+04   \n",
       "50%       6.000000    8717.944000  2014.000000       5.300000e+04   \n",
       "75%       8.000000   15475.232500  2016.000000       7.269450e+04   \n",
       "max      10.000000  245273.600000  2019.000000       6.500000e+06   \n",
       "\n",
       "           Mileage        Power        Seats  \n",
       "count  7043.000000  7043.000000  7043.000000  \n",
       "mean     18.257118   111.957022     5.277013  \n",
       "std       4.457124    52.488354     0.795342  \n",
       "min       0.000000    34.200000     2.000000  \n",
       "25%      15.300000    75.000000     5.000000  \n",
       "50%      18.300000    91.720000     5.000000  \n",
       "75%      21.100000   138.030000     5.000000  \n",
       "max      33.540000   550.000000    10.000000  "
      ]
     },
     "execution_count": 176,
     "metadata": {},
     "output_type": "execute_result"
    }
   ],
   "source": [
    "df_cleaned.describe()"
   ]
  },
  {
   "cell_type": "code",
   "execution_count": 177,
   "id": "137c5786",
   "metadata": {},
   "outputs": [
    {
     "name": "stdout",
     "output_type": "stream",
     "text": [
      "박스 최솟값 : 6.6000, 박스 최댓값 : 29.8000\n"
     ]
    }
   ],
   "source": [
    "Q1_m = np.percentile(df_cleaned['Mileage'].dropna(), 25)\n",
    "Q3_m = np.percentile(df_cleaned['Mileage'].dropna(), 75)\n",
    "IQR_m = Q3_m - Q1_m\n",
    "\n",
    "# 수염의 경계값 계산\n",
    "lower_bound = Q1_m - 1.5 * IQR_m\n",
    "upper_bound = Q3_m + 1.5 * IQR_m\n",
    "print(\"박스 최솟값 : %.4f, 박스 최댓값 : %.4f\"% (lower_bound, upper_bound))"
   ]
  },
  {
   "cell_type": "code",
   "execution_count": 178,
   "id": "6df4a701",
   "metadata": {},
   "outputs": [
    {
     "data": {
      "text/html": [
       "<div>\n",
       "<style scoped>\n",
       "    .dataframe tbody tr th:only-of-type {\n",
       "        vertical-align: middle;\n",
       "    }\n",
       "\n",
       "    .dataframe tbody tr th {\n",
       "        vertical-align: top;\n",
       "    }\n",
       "\n",
       "    .dataframe thead th {\n",
       "        text-align: right;\n",
       "    }\n",
       "</style>\n",
       "<table border=\"1\" class=\"dataframe\">\n",
       "  <thead>\n",
       "    <tr style=\"text-align: right;\">\n",
       "      <th></th>\n",
       "      <th>Name</th>\n",
       "      <th>Location</th>\n",
       "      <th>Price</th>\n",
       "      <th>Year</th>\n",
       "      <th>Kilometers_Driven</th>\n",
       "      <th>Fuel_Type</th>\n",
       "      <th>Transmission</th>\n",
       "      <th>Mileage</th>\n",
       "      <th>Engine</th>\n",
       "      <th>Power</th>\n",
       "      <th>Seats</th>\n",
       "    </tr>\n",
       "  </thead>\n",
       "  <tbody>\n",
       "    <tr>\n",
       "      <th>14</th>\n",
       "      <td>Land</td>\n",
       "      <td>10</td>\n",
       "      <td>26826.80</td>\n",
       "      <td>2012</td>\n",
       "      <td>85000</td>\n",
       "      <td>Diesel</td>\n",
       "      <td>Automatic</td>\n",
       "      <td>0.0</td>\n",
       "      <td>2179</td>\n",
       "      <td>115.000000</td>\n",
       "      <td>5.0</td>\n",
       "    </tr>\n",
       "    <tr>\n",
       "      <th>67</th>\n",
       "      <td>Mercedes-Benz</td>\n",
       "      <td>3</td>\n",
       "      <td>54680.68</td>\n",
       "      <td>2019</td>\n",
       "      <td>15369</td>\n",
       "      <td>Diesel</td>\n",
       "      <td>Automatic</td>\n",
       "      <td>0.0</td>\n",
       "      <td>1950</td>\n",
       "      <td>194.000000</td>\n",
       "      <td>5.0</td>\n",
       "    </tr>\n",
       "    <tr>\n",
       "      <th>79</th>\n",
       "      <td>Hyundai</td>\n",
       "      <td>5</td>\n",
       "      <td>1992.85</td>\n",
       "      <td>2005</td>\n",
       "      <td>87591</td>\n",
       "      <td>Petrol</td>\n",
       "      <td>Manual</td>\n",
       "      <td>0.0</td>\n",
       "      <td>1086</td>\n",
       "      <td>62.225641</td>\n",
       "      <td>5.0</td>\n",
       "    </tr>\n",
       "    <tr>\n",
       "      <th>229</th>\n",
       "      <td>Ford</td>\n",
       "      <td>1</td>\n",
       "      <td>5518.66</td>\n",
       "      <td>2015</td>\n",
       "      <td>70436</td>\n",
       "      <td>Diesel</td>\n",
       "      <td>Manual</td>\n",
       "      <td>0.0</td>\n",
       "      <td>1498</td>\n",
       "      <td>99.000000</td>\n",
       "      <td>5.0</td>\n",
       "    </tr>\n",
       "    <tr>\n",
       "      <th>262</th>\n",
       "      <td>Hyundai</td>\n",
       "      <td>5</td>\n",
       "      <td>2682.68</td>\n",
       "      <td>2006</td>\n",
       "      <td>99000</td>\n",
       "      <td>Petrol</td>\n",
       "      <td>Manual</td>\n",
       "      <td>0.0</td>\n",
       "      <td>1086</td>\n",
       "      <td>62.225641</td>\n",
       "      <td>5.0</td>\n",
       "    </tr>\n",
       "  </tbody>\n",
       "</table>\n",
       "</div>"
      ],
      "text/plain": [
       "              Name  Location     Price  Year  Kilometers_Driven Fuel_Type  \\\n",
       "14            Land        10  26826.80  2012              85000    Diesel   \n",
       "67   Mercedes-Benz         3  54680.68  2019              15369    Diesel   \n",
       "79         Hyundai         5   1992.85  2005              87591    Petrol   \n",
       "229           Ford         1   5518.66  2015              70436    Diesel   \n",
       "262        Hyundai         5   2682.68  2006              99000    Petrol   \n",
       "\n",
       "    Transmission  Mileage Engine       Power  Seats  \n",
       "14     Automatic      0.0   2179  115.000000    5.0  \n",
       "67     Automatic      0.0   1950  194.000000    5.0  \n",
       "79        Manual      0.0   1086   62.225641    5.0  \n",
       "229       Manual      0.0   1498   99.000000    5.0  \n",
       "262       Manual      0.0   1086   62.225641    5.0  "
      ]
     },
     "execution_count": 178,
     "metadata": {},
     "output_type": "execute_result"
    }
   ],
   "source": [
    "# 이상치 값 확인\n",
    "\n",
    "mileage_na = df_cleaned.query('Mileage > 29.86 | Mileage < 6.5')\n",
    "mileage_na.head()"
   ]
  },
  {
   "cell_type": "code",
   "execution_count": 179,
   "id": "c85a652d",
   "metadata": {},
   "outputs": [
    {
     "data": {
      "text/plain": [
       "(7,\n",
       " array(['Land', 'Mercedes-Benz', 'Hyundai', 'Ford', 'Maruti', 'Skoda',\n",
       "        'Audi'], dtype=object))"
      ]
     },
     "execution_count": 179,
     "metadata": {},
     "output_type": "execute_result"
    }
   ],
   "source": [
    "# 이상치 행에 있는 Name 변수들 뽑기\n",
    "\n",
    "mile_name = mileage_na['Name'].unique()\n",
    "len(mile_name), mile_name"
   ]
  },
  {
   "cell_type": "code",
   "execution_count": 185,
   "id": "412d9750",
   "metadata": {},
   "outputs": [
    {
     "data": {
      "text/plain": [
       "array(['Maruti', 'Hyundai', 'Honda', 'Audi', 'Nissan', 'Toyota',\n",
       "       'Volkswagen', 'Tata', 'Land', 'Mitsubishi', 'Renault',\n",
       "       'Mercedes-Benz', 'BMW', 'Mahindra', 'Ford', 'Porsche', 'Datsun',\n",
       "       'Jaguar', 'Volvo', 'Chevrolet', 'Skoda', 'Mini', 'Fiat', 'Jeep'],\n",
       "      dtype=object)"
      ]
     },
     "execution_count": 185,
     "metadata": {},
     "output_type": "execute_result"
    }
   ],
   "source": [
    "# Name 변수에 있는 범주값 확인\n",
    "\n",
    "unique_categories = df_raw['Name'].unique()\n",
    "unique_categories"
   ]
  },
  {
   "cell_type": "code",
   "execution_count": 186,
   "id": "202897e9",
   "metadata": {},
   "outputs": [
    {
     "data": {
      "text/html": [
       "<div>\n",
       "<style scoped>\n",
       "    .dataframe tbody tr th:only-of-type {\n",
       "        vertical-align: middle;\n",
       "    }\n",
       "\n",
       "    .dataframe tbody tr th {\n",
       "        vertical-align: top;\n",
       "    }\n",
       "\n",
       "    .dataframe thead th {\n",
       "        text-align: right;\n",
       "    }\n",
       "</style>\n",
       "<table border=\"1\" class=\"dataframe\">\n",
       "  <thead>\n",
       "    <tr style=\"text-align: right;\">\n",
       "      <th></th>\n",
       "      <th>Name</th>\n",
       "      <th>Location</th>\n",
       "      <th>Price</th>\n",
       "      <th>Year</th>\n",
       "      <th>Kilometers_Driven</th>\n",
       "      <th>Fuel_Type</th>\n",
       "      <th>Transmission</th>\n",
       "      <th>Mileage</th>\n",
       "      <th>Engine</th>\n",
       "      <th>Power</th>\n",
       "      <th>Seats</th>\n",
       "      <th>index_v</th>\n",
       "    </tr>\n",
       "  </thead>\n",
       "  <tbody>\n",
       "    <tr>\n",
       "      <th>14</th>\n",
       "      <td>Land</td>\n",
       "      <td>10</td>\n",
       "      <td>26826.80</td>\n",
       "      <td>2012</td>\n",
       "      <td>85000</td>\n",
       "      <td>Diesel</td>\n",
       "      <td>Automatic</td>\n",
       "      <td>0.0</td>\n",
       "      <td>2179</td>\n",
       "      <td>115.000000</td>\n",
       "      <td>5.0</td>\n",
       "      <td>14</td>\n",
       "    </tr>\n",
       "    <tr>\n",
       "      <th>67</th>\n",
       "      <td>Mercedes-Benz</td>\n",
       "      <td>3</td>\n",
       "      <td>54680.68</td>\n",
       "      <td>2019</td>\n",
       "      <td>15369</td>\n",
       "      <td>Diesel</td>\n",
       "      <td>Automatic</td>\n",
       "      <td>0.0</td>\n",
       "      <td>1950</td>\n",
       "      <td>194.000000</td>\n",
       "      <td>5.0</td>\n",
       "      <td>67</td>\n",
       "    </tr>\n",
       "    <tr>\n",
       "      <th>79</th>\n",
       "      <td>Hyundai</td>\n",
       "      <td>5</td>\n",
       "      <td>1992.85</td>\n",
       "      <td>2005</td>\n",
       "      <td>87591</td>\n",
       "      <td>Petrol</td>\n",
       "      <td>Manual</td>\n",
       "      <td>0.0</td>\n",
       "      <td>1086</td>\n",
       "      <td>62.225641</td>\n",
       "      <td>5.0</td>\n",
       "      <td>79</td>\n",
       "    </tr>\n",
       "    <tr>\n",
       "      <th>229</th>\n",
       "      <td>Ford</td>\n",
       "      <td>1</td>\n",
       "      <td>5518.66</td>\n",
       "      <td>2015</td>\n",
       "      <td>70436</td>\n",
       "      <td>Diesel</td>\n",
       "      <td>Manual</td>\n",
       "      <td>0.0</td>\n",
       "      <td>1498</td>\n",
       "      <td>99.000000</td>\n",
       "      <td>5.0</td>\n",
       "      <td>229</td>\n",
       "    </tr>\n",
       "    <tr>\n",
       "      <th>262</th>\n",
       "      <td>Hyundai</td>\n",
       "      <td>5</td>\n",
       "      <td>2682.68</td>\n",
       "      <td>2006</td>\n",
       "      <td>99000</td>\n",
       "      <td>Petrol</td>\n",
       "      <td>Manual</td>\n",
       "      <td>0.0</td>\n",
       "      <td>1086</td>\n",
       "      <td>62.225641</td>\n",
       "      <td>5.0</td>\n",
       "      <td>262</td>\n",
       "    </tr>\n",
       "  </tbody>\n",
       "</table>\n",
       "</div>"
      ],
      "text/plain": [
       "              Name  Location     Price  Year  Kilometers_Driven Fuel_Type  \\\n",
       "14            Land        10  26826.80  2012              85000    Diesel   \n",
       "67   Mercedes-Benz         3  54680.68  2019              15369    Diesel   \n",
       "79         Hyundai         5   1992.85  2005              87591    Petrol   \n",
       "229           Ford         1   5518.66  2015              70436    Diesel   \n",
       "262        Hyundai         5   2682.68  2006              99000    Petrol   \n",
       "\n",
       "    Transmission  Mileage Engine       Power  Seats  index_v  \n",
       "14     Automatic      0.0   2179  115.000000    5.0       14  \n",
       "67     Automatic      0.0   1950  194.000000    5.0       67  \n",
       "79        Manual      0.0   1086   62.225641    5.0       79  \n",
       "229       Manual      0.0   1498   99.000000    5.0      229  \n",
       "262       Manual      0.0   1086   62.225641    5.0      262  "
      ]
     },
     "execution_count": 186,
     "metadata": {},
     "output_type": "execute_result"
    }
   ],
   "source": [
    "# 인덱스 활용하고자 인덱스 변수 생성\n",
    "\n",
    "mileage_na['index_v'] = mileage_na.index\n",
    "mileage_na.head()"
   ]
  },
  {
   "cell_type": "code",
   "execution_count": 187,
   "id": "a6700f17",
   "metadata": {},
   "outputs": [
    {
     "name": "stdout",
     "output_type": "stream",
     "text": [
      "{'Audi': 15.42948316257393, 'BMW': 16.97887417218543, 'Chevrolet': 18.413819444444446, 'Datsun': 21.345294117647057, 'Fiat': 18.425, 'Ford': 18.590600916035694, 'Honda': 18.590758620689655, 'Hyundai': 19.273455398559953, 'Jaguar': 14.889375000000001, 'Jeep': 16.731578947368423, 'Land': 12.712877777777777, 'Mahindra': 15.270891719745224, 'Maruti': 21.448115573121818, 'Mercedes-Benz': 14.458654468724706, 'Mini': 18.581935483870968, 'Mitsubishi': 12.291666666666666, 'Nissan': 19.653577981651374, 'Porsche': 14.142941176470588, 'Renault': 20.725180722891565, 'Skoda': 17.060800708038318, 'Tata': 20.194976744186047, 'Toyota': 14.470485829959514, 'Volkswagen': 18.34163043478261, 'Volvo': 15.09851851851852}\n"
     ]
    }
   ],
   "source": [
    "category_means = df_cleaned.groupby('Name')['Mileage'].mean().to_dict()\n",
    "\n",
    "print(category_means)"
   ]
  },
  {
   "cell_type": "code",
   "execution_count": 188,
   "id": "b4f3eb63",
   "metadata": {},
   "outputs": [
    {
     "data": {
      "text/html": [
       "<div>\n",
       "<style scoped>\n",
       "    .dataframe tbody tr th:only-of-type {\n",
       "        vertical-align: middle;\n",
       "    }\n",
       "\n",
       "    .dataframe tbody tr th {\n",
       "        vertical-align: top;\n",
       "    }\n",
       "\n",
       "    .dataframe thead th {\n",
       "        text-align: right;\n",
       "    }\n",
       "</style>\n",
       "<table border=\"1\" class=\"dataframe\">\n",
       "  <thead>\n",
       "    <tr style=\"text-align: right;\">\n",
       "      <th></th>\n",
       "      <th>Name</th>\n",
       "      <th>Location</th>\n",
       "      <th>Price</th>\n",
       "      <th>Year</th>\n",
       "      <th>Kilometers_Driven</th>\n",
       "      <th>Fuel_Type</th>\n",
       "      <th>Transmission</th>\n",
       "      <th>Mileage</th>\n",
       "      <th>Engine</th>\n",
       "      <th>Power</th>\n",
       "      <th>Seats</th>\n",
       "    </tr>\n",
       "  </thead>\n",
       "  <tbody>\n",
       "    <tr>\n",
       "      <th>14</th>\n",
       "      <td>Land</td>\n",
       "      <td>10</td>\n",
       "      <td>26826.8</td>\n",
       "      <td>2012</td>\n",
       "      <td>85000</td>\n",
       "      <td>Diesel</td>\n",
       "      <td>Automatic</td>\n",
       "      <td>12.712878</td>\n",
       "      <td>2179</td>\n",
       "      <td>115.0</td>\n",
       "      <td>5.0</td>\n",
       "    </tr>\n",
       "  </tbody>\n",
       "</table>\n",
       "</div>"
      ],
      "text/plain": [
       "    Name  Location    Price  Year  Kilometers_Driven Fuel_Type Transmission  \\\n",
       "14  Land        10  26826.8  2012              85000    Diesel    Automatic   \n",
       "\n",
       "      Mileage Engine  Power  Seats  \n",
       "14  12.712878   2179  115.0    5.0  "
      ]
     },
     "execution_count": 188,
     "metadata": {},
     "output_type": "execute_result"
    }
   ],
   "source": [
    "# mileage_na의 변수에 대한 브랜드 값을 확인하여 그에 맞는 값으로 대체\n",
    "\n",
    "for k in mileage_na['index_v'] :\n",
    "    if mileage_na.loc[k, \"Name\"] in mile_name :\n",
    "        df_cleaned.loc[k, \"Mileage\"] = category_means[mileage_na.loc[k, \"Name\"]]\n",
    "\n",
    "# 평균값으로 채워진지 확인\n",
    "df_cleaned.loc[14:14]"
   ]
  },
  {
   "cell_type": "code",
   "execution_count": 189,
   "id": "a5dc7f87",
   "metadata": {},
   "outputs": [
    {
     "data": {
      "text/plain": [
       "<Axes: ylabel='Mileage'>"
      ]
     },
     "execution_count": 189,
     "metadata": {},
     "output_type": "execute_result"
    },
    {
     "data": {
      "image/png": "[encoded data removed]",
      "text/plain": [
       "<Figure size 1000x600 with 1 Axes>"
      ]
     },
     "metadata": {},
     "output_type": "display_data"
    }
   ],
   "source": [
    "# 마일리지 이상치 확인\n",
    "\n",
    "plt.figure(figsize=(10, 6))\n",
    "sns.boxplot(df_cleaned, y='Mileage')"
   ]
  },
  {
   "cell_type": "code",
   "execution_count": 190,
   "id": "c0b472de",
   "metadata": {},
   "outputs": [
    {
     "data": {
      "text/plain": [
       "Name                 0\n",
       "Location             0\n",
       "Price                0\n",
       "Year                 0\n",
       "Kilometers_Driven    0\n",
       "Fuel_Type            0\n",
       "Transmission         0\n",
       "Mileage              0\n",
       "Engine               0\n",
       "Power                0\n",
       "Seats                0\n",
       "dtype: int64"
      ]
     },
     "execution_count": 190,
     "metadata": {},
     "output_type": "execute_result"
    }
   ],
   "source": [
    "df_cleaned.isnull().sum()"
   ]
  },
  {
   "cell_type": "markdown",
   "id": "182f7182",
   "metadata": {},
   "source": [
    "### Engine 변수"
   ]
  },
  {
   "cell_type": "code",
   "execution_count": 191,
   "id": "73665622",
   "metadata": {},
   "outputs": [],
   "source": [
    "df_cleaned['Engine'] = df_cleaned['Engine'].astype('float64')"
   ]
  },
  {
   "cell_type": "code",
   "execution_count": 192,
   "id": "5c6327ae",
   "metadata": {},
   "outputs": [
    {
     "data": {
      "text/html": [
       "<div>\n",
       "<style scoped>\n",
       "    .dataframe tbody tr th:only-of-type {\n",
       "        vertical-align: middle;\n",
       "    }\n",
       "\n",
       "    .dataframe tbody tr th {\n",
       "        vertical-align: top;\n",
       "    }\n",
       "\n",
       "    .dataframe thead th {\n",
       "        text-align: right;\n",
       "    }\n",
       "</style>\n",
       "<table border=\"1\" class=\"dataframe\">\n",
       "  <thead>\n",
       "    <tr style=\"text-align: right;\">\n",
       "      <th></th>\n",
       "      <th>Name</th>\n",
       "      <th>Location</th>\n",
       "      <th>Price</th>\n",
       "      <th>Year</th>\n",
       "      <th>Kilometers_Driven</th>\n",
       "      <th>Fuel_Type</th>\n",
       "      <th>Transmission</th>\n",
       "      <th>Mileage</th>\n",
       "      <th>Engine</th>\n",
       "      <th>Power</th>\n",
       "      <th>Seats</th>\n",
       "    </tr>\n",
       "  </thead>\n",
       "  <tbody>\n",
       "    <tr>\n",
       "      <th>0</th>\n",
       "      <td>Maruti</td>\n",
       "      <td>9</td>\n",
       "      <td>2682.68</td>\n",
       "      <td>2010</td>\n",
       "      <td>72000</td>\n",
       "      <td>CNG</td>\n",
       "      <td>Manual</td>\n",
       "      <td>26.60</td>\n",
       "      <td>998.0</td>\n",
       "      <td>58.16</td>\n",
       "      <td>5.0</td>\n",
       "    </tr>\n",
       "    <tr>\n",
       "      <th>1</th>\n",
       "      <td>Hyundai</td>\n",
       "      <td>10</td>\n",
       "      <td>19162.00</td>\n",
       "      <td>2015</td>\n",
       "      <td>41000</td>\n",
       "      <td>Diesel</td>\n",
       "      <td>Manual</td>\n",
       "      <td>19.67</td>\n",
       "      <td>1582.0</td>\n",
       "      <td>126.20</td>\n",
       "      <td>5.0</td>\n",
       "    </tr>\n",
       "    <tr>\n",
       "      <th>2</th>\n",
       "      <td>Honda</td>\n",
       "      <td>2</td>\n",
       "      <td>6898.32</td>\n",
       "      <td>2011</td>\n",
       "      <td>46000</td>\n",
       "      <td>Petrol</td>\n",
       "      <td>Manual</td>\n",
       "      <td>18.20</td>\n",
       "      <td>1199.0</td>\n",
       "      <td>88.70</td>\n",
       "      <td>5.0</td>\n",
       "    </tr>\n",
       "    <tr>\n",
       "      <th>3</th>\n",
       "      <td>Maruti</td>\n",
       "      <td>2</td>\n",
       "      <td>9197.76</td>\n",
       "      <td>2012</td>\n",
       "      <td>87000</td>\n",
       "      <td>Diesel</td>\n",
       "      <td>Manual</td>\n",
       "      <td>20.77</td>\n",
       "      <td>1248.0</td>\n",
       "      <td>88.76</td>\n",
       "      <td>7.0</td>\n",
       "    </tr>\n",
       "    <tr>\n",
       "      <th>4</th>\n",
       "      <td>Audi</td>\n",
       "      <td>3</td>\n",
       "      <td>27194.71</td>\n",
       "      <td>2013</td>\n",
       "      <td>40670</td>\n",
       "      <td>Diesel</td>\n",
       "      <td>Automatic</td>\n",
       "      <td>15.20</td>\n",
       "      <td>1968.0</td>\n",
       "      <td>140.80</td>\n",
       "      <td>5.0</td>\n",
       "    </tr>\n",
       "  </tbody>\n",
       "</table>\n",
       "</div>"
      ],
      "text/plain": [
       "      Name  Location     Price  Year  Kilometers_Driven Fuel_Type  \\\n",
       "0   Maruti         9   2682.68  2010              72000       CNG   \n",
       "1  Hyundai        10  19162.00  2015              41000    Diesel   \n",
       "2    Honda         2   6898.32  2011              46000    Petrol   \n",
       "3   Maruti         2   9197.76  2012              87000    Diesel   \n",
       "4     Audi         3  27194.71  2013              40670    Diesel   \n",
       "\n",
       "  Transmission  Mileage  Engine   Power  Seats  \n",
       "0       Manual    26.60   998.0   58.16    5.0  \n",
       "1       Manual    19.67  1582.0  126.20    5.0  \n",
       "2       Manual    18.20  1199.0   88.70    5.0  \n",
       "3       Manual    20.77  1248.0   88.76    7.0  \n",
       "4    Automatic    15.20  1968.0  140.80    5.0  "
      ]
     },
     "execution_count": 192,
     "metadata": {},
     "output_type": "execute_result"
    }
   ],
   "source": [
    "df_cleaned.head()"
   ]
  },
  {
   "cell_type": "code",
   "execution_count": 193,
   "id": "0cf63714",
   "metadata": {},
   "outputs": [
    {
     "name": "stdout",
     "output_type": "stream",
     "text": [
      "<class 'pandas.core.frame.DataFrame'>\n",
      "Int64Index: 7043 entries, 0 to 7252\n",
      "Data columns (total 11 columns):\n",
      " #   Column             Non-Null Count  Dtype  \n",
      "---  ------             --------------  -----  \n",
      " 0   Name               7043 non-null   object \n",
      " 1   Location           7043 non-null   int64  \n",
      " 2   Price              7043 non-null   float64\n",
      " 3   Year               7043 non-null   int64  \n",
      " 4   Kilometers_Driven  7043 non-null   int64  \n",
      " 5   Fuel_Type          7043 non-null   object \n",
      " 6   Transmission       7043 non-null   object \n",
      " 7   Mileage            7043 non-null   float64\n",
      " 8   Engine             7043 non-null   float64\n",
      " 9   Power              7043 non-null   float64\n",
      " 10  Seats              7043 non-null   float64\n",
      "dtypes: float64(5), int64(3), object(3)\n",
      "memory usage: 918.3+ KB\n",
      "None\n"
     ]
    }
   ],
   "source": [
    "print(df_cleaned.info())"
   ]
  },
  {
   "cell_type": "code",
   "execution_count": 194,
   "id": "6a0a4534",
   "metadata": {},
   "outputs": [
    {
     "data": {
      "text/plain": [
       "{'whiskers': [<matplotlib.lines.Line2D at 0x7f36f428a6b0>,\n",
       "  <matplotlib.lines.Line2D at 0x7f36f428a950>],\n",
       " 'caps': [<matplotlib.lines.Line2D at 0x7f36f428abf0>,\n",
       "  <matplotlib.lines.Line2D at 0x7f36f428ae90>],\n",
       " 'boxes': [<matplotlib.lines.Line2D at 0x7f36f428a410>],\n",
       " 'medians': [<matplotlib.lines.Line2D at 0x7f36f428b130>],\n",
       " 'fliers': [<matplotlib.lines.Line2D at 0x7f36f428b3d0>],\n",
       " 'means': []}"
      ]
     },
     "execution_count": 194,
     "metadata": {},
     "output_type": "execute_result"
    },
    {
     "data": {
      "image/png": "[encoded data removed]",
      "text/plain": [
       "<Figure size 1000x600 with 1 Axes>"
      ]
     },
     "metadata": {},
     "output_type": "display_data"
    }
   ],
   "source": [
    "plt.figure(figsize=(10, 6))\n",
    "plt.boxplot(df_cleaned['Engine'].dropna(), vert=False)"
   ]
  },
  {
   "cell_type": "code",
   "execution_count": 195,
   "id": "4ce4b751",
   "metadata": {},
   "outputs": [],
   "source": [
    "# 사분위수 계산\n",
    "Q1 = np.percentile(df_cleaned['Engine'].dropna(), 25)\n",
    "Q3 = np.percentile(df_cleaned['Engine'].dropna(), 75)\n",
    "IQR = Q3 - Q1\n",
    "\n",
    "# 수염의 경계값 계산\n",
    "lower_bound = Q1 - 1.5 * IQR\n",
    "upper_bound = Q3 + 1.5 * IQR\n",
    "\n",
    "#수염보다 큰 값 삭제\n",
    "df_cleaned = df_cleaned[~(df_cleaned['Engine'] > upper_bound)]"
   ]
  },
  {
   "cell_type": "code",
   "execution_count": 196,
   "id": "559c5372",
   "metadata": {},
   "outputs": [
    {
     "data": {
      "text/plain": [
       "{'whiskers': [<matplotlib.lines.Line2D at 0x7f36f42e7e50>,\n",
       "  <matplotlib.lines.Line2D at 0x7f36f4314130>],\n",
       " 'caps': [<matplotlib.lines.Line2D at 0x7f36f43143d0>,\n",
       "  <matplotlib.lines.Line2D at 0x7f36f4314670>],\n",
       " 'boxes': [<matplotlib.lines.Line2D at 0x7f36f42e7bb0>],\n",
       " 'medians': [<matplotlib.lines.Line2D at 0x7f36f4314910>],\n",
       " 'fliers': [<matplotlib.lines.Line2D at 0x7f36f4314bb0>],\n",
       " 'means': []}"
      ]
     },
     "execution_count": 196,
     "metadata": {},
     "output_type": "execute_result"
    },
    {
     "data": {
      "image/png": "[encoded data removed]",
      "text/plain": [
       "<Figure size 1000x600 with 1 Axes>"
      ]
     },
     "metadata": {},
     "output_type": "display_data"
    }
   ],
   "source": [
    "plt.figure(figsize=(10, 6))\n",
    "plt.boxplot(df_cleaned['Engine'].dropna(), vert=False)"
   ]
  },
  {
   "cell_type": "code",
   "execution_count": 197,
   "id": "97eb4406",
   "metadata": {},
   "outputs": [
    {
     "data": {
      "text/plain": [
       "24"
      ]
     },
     "execution_count": 197,
     "metadata": {},
     "output_type": "execute_result"
    }
   ],
   "source": [
    "# Name 열의 고유한 값들의 목록을 추출\n",
    "unique_names = df_cleaned['Name'].unique()\n",
    "\n",
    "# 고유한 Name 값들의 개수와 목록을 출력\n",
    "num_unique_names = len(unique_names)\n",
    "\n",
    "num_unique_names"
   ]
  },
  {
   "cell_type": "code",
   "execution_count": 198,
   "id": "4b6dc58b",
   "metadata": {},
   "outputs": [
    {
     "data": {
      "text/plain": [
       "Name                 0\n",
       "Location             0\n",
       "Price                0\n",
       "Year                 0\n",
       "Kilometers_Driven    0\n",
       "Fuel_Type            0\n",
       "Transmission         0\n",
       "Mileage              0\n",
       "Engine               0\n",
       "Power                0\n",
       "Seats                0\n",
       "dtype: int64"
      ]
     },
     "execution_count": 198,
     "metadata": {},
     "output_type": "execute_result"
    }
   ],
   "source": [
    "# 결측치(True) 현황 요약 :sum 함수\n",
    "\n",
    "df_cleaned.isnull().sum()"
   ]
  },
  {
   "cell_type": "code",
   "execution_count": 199,
   "id": "f7a4cc0a",
   "metadata": {},
   "outputs": [],
   "source": [
    "# 각 열별로 결측치가 있는 행을 출력\n",
    "\n",
    "for column in df_cleaned.columns:\n",
    "    missing_rows = df_cleaned[df_cleaned[column].isnull()]\n",
    "    if not missing_rows.empty:\n",
    "        print(f\"Column '{column}' has missing values in the following rows:\")\n",
    "        print(missing_rows)\n",
    "        print(\"\\n\")"
   ]
  },
  {
   "cell_type": "code",
   "execution_count": 200,
   "id": "7e32d015",
   "metadata": {},
   "outputs": [
    {
     "data": {
      "text/html": [
       "<div>\n",
       "<style scoped>\n",
       "    .dataframe tbody tr th:only-of-type {\n",
       "        vertical-align: middle;\n",
       "    }\n",
       "\n",
       "    .dataframe tbody tr th {\n",
       "        vertical-align: top;\n",
       "    }\n",
       "\n",
       "    .dataframe thead th {\n",
       "        text-align: right;\n",
       "    }\n",
       "</style>\n",
       "<table border=\"1\" class=\"dataframe\">\n",
       "  <thead>\n",
       "    <tr style=\"text-align: right;\">\n",
       "      <th></th>\n",
       "      <th>Name</th>\n",
       "      <th>Location</th>\n",
       "      <th>Price</th>\n",
       "      <th>Year</th>\n",
       "      <th>Kilometers_Driven</th>\n",
       "      <th>Fuel_Type</th>\n",
       "      <th>Transmission</th>\n",
       "      <th>Mileage</th>\n",
       "      <th>Engine</th>\n",
       "      <th>Power</th>\n",
       "      <th>Seats</th>\n",
       "    </tr>\n",
       "  </thead>\n",
       "  <tbody>\n",
       "    <tr>\n",
       "      <th>0</th>\n",
       "      <td>Maruti</td>\n",
       "      <td>9</td>\n",
       "      <td>2682.68</td>\n",
       "      <td>2010</td>\n",
       "      <td>72000</td>\n",
       "      <td>CNG</td>\n",
       "      <td>Manual</td>\n",
       "      <td>26.60</td>\n",
       "      <td>998.0</td>\n",
       "      <td>58.16</td>\n",
       "      <td>5.0</td>\n",
       "    </tr>\n",
       "    <tr>\n",
       "      <th>1</th>\n",
       "      <td>Hyundai</td>\n",
       "      <td>10</td>\n",
       "      <td>19162.00</td>\n",
       "      <td>2015</td>\n",
       "      <td>41000</td>\n",
       "      <td>Diesel</td>\n",
       "      <td>Manual</td>\n",
       "      <td>19.67</td>\n",
       "      <td>1582.0</td>\n",
       "      <td>126.20</td>\n",
       "      <td>5.0</td>\n",
       "    </tr>\n",
       "    <tr>\n",
       "      <th>2</th>\n",
       "      <td>Honda</td>\n",
       "      <td>2</td>\n",
       "      <td>6898.32</td>\n",
       "      <td>2011</td>\n",
       "      <td>46000</td>\n",
       "      <td>Petrol</td>\n",
       "      <td>Manual</td>\n",
       "      <td>18.20</td>\n",
       "      <td>1199.0</td>\n",
       "      <td>88.70</td>\n",
       "      <td>5.0</td>\n",
       "    </tr>\n",
       "    <tr>\n",
       "      <th>3</th>\n",
       "      <td>Maruti</td>\n",
       "      <td>2</td>\n",
       "      <td>9197.76</td>\n",
       "      <td>2012</td>\n",
       "      <td>87000</td>\n",
       "      <td>Diesel</td>\n",
       "      <td>Manual</td>\n",
       "      <td>20.77</td>\n",
       "      <td>1248.0</td>\n",
       "      <td>88.76</td>\n",
       "      <td>7.0</td>\n",
       "    </tr>\n",
       "    <tr>\n",
       "      <th>4</th>\n",
       "      <td>Audi</td>\n",
       "      <td>3</td>\n",
       "      <td>27194.71</td>\n",
       "      <td>2013</td>\n",
       "      <td>40670</td>\n",
       "      <td>Diesel</td>\n",
       "      <td>Automatic</td>\n",
       "      <td>15.20</td>\n",
       "      <td>1968.0</td>\n",
       "      <td>140.80</td>\n",
       "      <td>5.0</td>\n",
       "    </tr>\n",
       "    <tr>\n",
       "      <th>5</th>\n",
       "      <td>Hyundai</td>\n",
       "      <td>5</td>\n",
       "      <td>3602.46</td>\n",
       "      <td>2012</td>\n",
       "      <td>75000</td>\n",
       "      <td>LPG</td>\n",
       "      <td>Manual</td>\n",
       "      <td>21.10</td>\n",
       "      <td>814.0</td>\n",
       "      <td>55.20</td>\n",
       "      <td>5.0</td>\n",
       "    </tr>\n",
       "    <tr>\n",
       "      <th>6</th>\n",
       "      <td>Nissan</td>\n",
       "      <td>6</td>\n",
       "      <td>5365.36</td>\n",
       "      <td>2013</td>\n",
       "      <td>86999</td>\n",
       "      <td>Diesel</td>\n",
       "      <td>Manual</td>\n",
       "      <td>23.08</td>\n",
       "      <td>1461.0</td>\n",
       "      <td>63.10</td>\n",
       "      <td>5.0</td>\n",
       "    </tr>\n",
       "    <tr>\n",
       "      <th>7</th>\n",
       "      <td>Toyota</td>\n",
       "      <td>9</td>\n",
       "      <td>26826.80</td>\n",
       "      <td>2016</td>\n",
       "      <td>36000</td>\n",
       "      <td>Diesel</td>\n",
       "      <td>Automatic</td>\n",
       "      <td>11.36</td>\n",
       "      <td>2755.0</td>\n",
       "      <td>171.50</td>\n",
       "      <td>8.0</td>\n",
       "    </tr>\n",
       "    <tr>\n",
       "      <th>8</th>\n",
       "      <td>Volkswagen</td>\n",
       "      <td>10</td>\n",
       "      <td>7971.39</td>\n",
       "      <td>2013</td>\n",
       "      <td>64430</td>\n",
       "      <td>Diesel</td>\n",
       "      <td>Manual</td>\n",
       "      <td>20.54</td>\n",
       "      <td>1598.0</td>\n",
       "      <td>103.60</td>\n",
       "      <td>5.0</td>\n",
       "    </tr>\n",
       "    <tr>\n",
       "      <th>9</th>\n",
       "      <td>Tata</td>\n",
       "      <td>2</td>\n",
       "      <td>2989.27</td>\n",
       "      <td>2012</td>\n",
       "      <td>65932</td>\n",
       "      <td>Diesel</td>\n",
       "      <td>Manual</td>\n",
       "      <td>22.30</td>\n",
       "      <td>1248.0</td>\n",
       "      <td>74.00</td>\n",
       "      <td>5.0</td>\n",
       "    </tr>\n",
       "  </tbody>\n",
       "</table>\n",
       "</div>"
      ],
      "text/plain": [
       "         Name  Location     Price  Year  Kilometers_Driven Fuel_Type  \\\n",
       "0      Maruti         9   2682.68  2010              72000       CNG   \n",
       "1     Hyundai        10  19162.00  2015              41000    Diesel   \n",
       "2       Honda         2   6898.32  2011              46000    Petrol   \n",
       "3      Maruti         2   9197.76  2012              87000    Diesel   \n",
       "4        Audi         3  27194.71  2013              40670    Diesel   \n",
       "5     Hyundai         5   3602.46  2012              75000       LPG   \n",
       "6      Nissan         6   5365.36  2013              86999    Diesel   \n",
       "7      Toyota         9  26826.80  2016              36000    Diesel   \n",
       "8  Volkswagen        10   7971.39  2013              64430    Diesel   \n",
       "9        Tata         2   2989.27  2012              65932    Diesel   \n",
       "\n",
       "  Transmission  Mileage  Engine   Power  Seats  \n",
       "0       Manual    26.60   998.0   58.16    5.0  \n",
       "1       Manual    19.67  1582.0  126.20    5.0  \n",
       "2       Manual    18.20  1199.0   88.70    5.0  \n",
       "3       Manual    20.77  1248.0   88.76    7.0  \n",
       "4    Automatic    15.20  1968.0  140.80    5.0  \n",
       "5       Manual    21.10   814.0   55.20    5.0  \n",
       "6       Manual    23.08  1461.0   63.10    5.0  \n",
       "7    Automatic    11.36  2755.0  171.50    8.0  \n",
       "8       Manual    20.54  1598.0  103.60    5.0  \n",
       "9       Manual    22.30  1248.0   74.00    5.0  "
      ]
     },
     "execution_count": 200,
     "metadata": {},
     "output_type": "execute_result"
    }
   ],
   "source": [
    "# df_cleaned에서 'Power' 열의 'null' 값을 NaN으로 변환\n",
    "df_cleaned['Power'] = df_cleaned['Power'].replace('null', np.nan).astype(float)\n",
    "\n",
    "\n",
    "df_cleaned.head(10)"
   ]
  },
  {
   "cell_type": "code",
   "execution_count": 201,
   "id": "a406369e",
   "metadata": {},
   "outputs": [
    {
     "data": {
      "text/plain": [
       "Name                 0\n",
       "Location             0\n",
       "Price                0\n",
       "Year                 0\n",
       "Kilometers_Driven    0\n",
       "Fuel_Type            0\n",
       "Transmission         0\n",
       "Mileage              0\n",
       "Engine               0\n",
       "Power                0\n",
       "Seats                0\n",
       "dtype: int64"
      ]
     },
     "execution_count": 201,
     "metadata": {},
     "output_type": "execute_result"
    }
   ],
   "source": [
    "# 결측치(True) 현황 요약 :sum 함수\n",
    "df_cleaned.isnull().sum()"
   ]
  },
  {
   "cell_type": "code",
   "execution_count": 202,
   "id": "76cabe6a",
   "metadata": {},
   "outputs": [
    {
     "name": "stdout",
     "output_type": "stream",
     "text": [
      "Series([], dtype: int64)\n"
     ]
    },
    {
     "data": {
      "text/plain": [
       "0"
      ]
     },
     "execution_count": 202,
     "metadata": {},
     "output_type": "execute_result"
    }
   ],
   "source": [
    "# Null 값을 Power 변수의 Name 출력\n",
    "\n",
    "nan_powers = df[df['Power'].isnull()].groupby('Name').size()\n",
    "print(nan_powers)\n",
    "sum_nan_powers = sum(nan_powers)\n",
    "sum_nan_powers"
   ]
  },
  {
   "cell_type": "code",
   "execution_count": 203,
   "id": "e0fa5c29",
   "metadata": {},
   "outputs": [
    {
     "data": {
      "text/html": [
       "<div>\n",
       "<style scoped>\n",
       "    .dataframe tbody tr th:only-of-type {\n",
       "        vertical-align: middle;\n",
       "    }\n",
       "\n",
       "    .dataframe tbody tr th {\n",
       "        vertical-align: top;\n",
       "    }\n",
       "\n",
       "    .dataframe thead th {\n",
       "        text-align: right;\n",
       "    }\n",
       "</style>\n",
       "<table border=\"1\" class=\"dataframe\">\n",
       "  <thead>\n",
       "    <tr style=\"text-align: right;\">\n",
       "      <th></th>\n",
       "      <th>Name</th>\n",
       "      <th>Location</th>\n",
       "      <th>Price</th>\n",
       "      <th>Year</th>\n",
       "      <th>Kilometers_Driven</th>\n",
       "      <th>Fuel_Type</th>\n",
       "      <th>Transmission</th>\n",
       "      <th>Mileage</th>\n",
       "      <th>Engine</th>\n",
       "      <th>Power</th>\n",
       "      <th>Seats</th>\n",
       "    </tr>\n",
       "  </thead>\n",
       "  <tbody>\n",
       "    <tr>\n",
       "      <th>2369</th>\n",
       "      <td>Maruti</td>\n",
       "      <td>2</td>\n",
       "      <td>2299.44</td>\n",
       "      <td>2008</td>\n",
       "      <td>56000</td>\n",
       "      <td>Petrol</td>\n",
       "      <td>Manual</td>\n",
       "      <td>19.5</td>\n",
       "      <td>1061.0</td>\n",
       "      <td>86.302182</td>\n",
       "      <td>5.0</td>\n",
       "    </tr>\n",
       "    <tr>\n",
       "      <th>3882</th>\n",
       "      <td>Maruti</td>\n",
       "      <td>8</td>\n",
       "      <td>3832.40</td>\n",
       "      <td>2010</td>\n",
       "      <td>40000</td>\n",
       "      <td>Petrol</td>\n",
       "      <td>Manual</td>\n",
       "      <td>19.5</td>\n",
       "      <td>1061.0</td>\n",
       "      <td>86.302182</td>\n",
       "      <td>5.0</td>\n",
       "    </tr>\n",
       "    <tr>\n",
       "      <th>5893</th>\n",
       "      <td>Maruti</td>\n",
       "      <td>2</td>\n",
       "      <td>2682.68</td>\n",
       "      <td>2008</td>\n",
       "      <td>51000</td>\n",
       "      <td>Petrol</td>\n",
       "      <td>Manual</td>\n",
       "      <td>19.5</td>\n",
       "      <td>1061.0</td>\n",
       "      <td>86.302182</td>\n",
       "      <td>5.0</td>\n",
       "    </tr>\n",
       "  </tbody>\n",
       "</table>\n",
       "</div>"
      ],
      "text/plain": [
       "        Name  Location    Price  Year  Kilometers_Driven Fuel_Type  \\\n",
       "2369  Maruti         2  2299.44  2008              56000    Petrol   \n",
       "3882  Maruti         8  3832.40  2010              40000    Petrol   \n",
       "5893  Maruti         2  2682.68  2008              51000    Petrol   \n",
       "\n",
       "     Transmission  Mileage  Engine      Power  Seats  \n",
       "2369       Manual     19.5  1061.0  86.302182    5.0  \n",
       "3882       Manual     19.5  1061.0  86.302182    5.0  \n",
       "5893       Manual     19.5  1061.0  86.302182    5.0  "
      ]
     },
     "execution_count": 203,
     "metadata": {},
     "output_type": "execute_result"
    }
   ],
   "source": [
    "# 'Name' 열에서 'Maruti Estilo LXI'만 필터링하여 출력합니다.\n",
    "maruti_estilo_lxi = df_cleaned.loc[df['Name'] == 'Maruti Estilo LXI']\n",
    "\n",
    "# 결과 출력\n",
    "maruti_estilo_lxi\n",
    "\n",
    "#5인승"
   ]
  },
  {
   "cell_type": "code",
   "execution_count": 204,
   "id": "91252a4f",
   "metadata": {},
   "outputs": [
    {
     "data": {
      "text/html": [
       "<div>\n",
       "<style scoped>\n",
       "    .dataframe tbody tr th:only-of-type {\n",
       "        vertical-align: middle;\n",
       "    }\n",
       "\n",
       "    .dataframe tbody tr th {\n",
       "        vertical-align: top;\n",
       "    }\n",
       "\n",
       "    .dataframe thead th {\n",
       "        text-align: right;\n",
       "    }\n",
       "</style>\n",
       "<table border=\"1\" class=\"dataframe\">\n",
       "  <thead>\n",
       "    <tr style=\"text-align: right;\">\n",
       "      <th></th>\n",
       "      <th>Name</th>\n",
       "      <th>Location</th>\n",
       "      <th>Price</th>\n",
       "      <th>Year</th>\n",
       "      <th>Kilometers_Driven</th>\n",
       "      <th>Fuel_Type</th>\n",
       "      <th>Transmission</th>\n",
       "      <th>Mileage</th>\n",
       "      <th>Engine</th>\n",
       "      <th>Power</th>\n",
       "      <th>Seats</th>\n",
       "    </tr>\n",
       "  </thead>\n",
       "  <tbody>\n",
       "  </tbody>\n",
       "</table>\n",
       "</div>"
      ],
      "text/plain": [
       "Empty DataFrame\n",
       "Columns: [Name, Location, Price, Year, Kilometers_Driven, Fuel_Type, Transmission, Mileage, Engine, Power, Seats]\n",
       "Index: []"
      ]
     },
     "execution_count": 204,
     "metadata": {},
     "output_type": "execute_result"
    }
   ],
   "source": [
    "df_raw[df_raw['Name'] == 'Maruti Estilo LXI']"
   ]
  },
  {
   "cell_type": "code",
   "execution_count": 205,
   "id": "d17db159",
   "metadata": {},
   "outputs": [
    {
     "name": "stdout",
     "output_type": "stream",
     "text": [
      "Series([], dtype: int64)\n"
     ]
    },
    {
     "data": {
      "text/plain": [
       "0"
      ]
     },
     "execution_count": 205,
     "metadata": {},
     "output_type": "execute_result"
    }
   ],
   "source": [
    "nan_powers = df_cleaned[df_cleaned['Power'].isnull()].groupby('Name').size()\n",
    "print(nan_powers)\n",
    "sum_nan_powers = sum(nan_powers)\n",
    "sum_nan_powers"
   ]
  },
  {
   "cell_type": "code",
   "execution_count": null,
   "id": "ae1d19aa",
   "metadata": {},
   "outputs": [],
   "source": []
  },
  {
   "cell_type": "code",
   "execution_count": null,
   "id": "fbfba12b",
   "metadata": {},
   "outputs": [],
   "source": []
  },
  {
   "cell_type": "code",
   "execution_count": null,
   "id": "1d8fce0f",
   "metadata": {},
   "outputs": [],
   "source": []
  }
 ],
 "metadata": {
  "kernelspec": {
   "display_name": "Python [conda env:base] *",
   "language": "python",
   "name": "conda-base-py"
  },
  "language_info": {
   "codemirror_mode": {
    "name": "ipython",
    "version": 3
   },
   "file_extension": ".py",
   "mimetype": "text/x-python",
   "name": "python",
   "nbconvert_exporter": "python",
   "pygments_lexer": "ipython3",
   "version": "3.10.9"
  }
 },
 "nbformat": 4,
 "nbformat_minor": 5
}
